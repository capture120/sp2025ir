{
  "nbformat": 4,
  "nbformat_minor": 0,
  "metadata": {
    "colab": {
      "provenance": [],
      "include_colab_link": true
    },
    "kernelspec": {
      "name": "python3",
      "display_name": "Python 3"
    }
  },
  "cells": [
    {
      "cell_type": "markdown",
      "metadata": {
        "id": "view-in-github",
        "colab_type": "text"
      },
      "source": [
        "<a href=\"https://colab.research.google.com/github/capture120/sp2025ir/blob/main/retrieval-models.ipynb\" target=\"_parent\"><img src=\"https://colab.research.google.com/assets/colab-badge.svg\" alt=\"Open In Colab\"/></a>"
      ]
    },
    {
      "cell_type": "markdown",
      "metadata": {
        "id": "vUpmSFflwzR1"
      },
      "source": [
        "# Retrieval Models and Evaluation\n",
        "\n"
      ]
    },
    {
      "cell_type": "markdown",
      "metadata": {
        "id": "-2PzgU4YxIl3"
      },
      "source": [
        "In this notebook, you will evaluate results ranking on a test collection. First, you'll compute the mean average precision of a baseline BM25 model. Then you'll implement a query-likelihood retrieval model based on the same inverted index.\n",
        "\n",
        "This notebook uses the [Pyserini](http://pyserini.io/) library, a Python interface to [Anserini](http://anserini.io) and thus to [Lucene](https://lucene.apache.org/), a widely-used open-source search engine. This library is written and maintained by Jimmy Lin and his colleagues at the University of Waterloo.\n"
      ]
    },
    {
      "cell_type": "markdown",
      "metadata": {
        "id": "f2vNd7bpJlDZ"
      },
      "source": [
        "We start by installing the python interface. Since it calls the underlying Lucene search engine, which is written in Java, we make sure we point to an appropriate Java installation. If like Colab you don't have Java 21, uncomment the following code and run it, or whatever makes sense for your platform."
      ]
    },
    {
      "cell_type": "code",
      "source": [
        "## Uncomment the following code to install Java 21 on Colab\n",
        "#!apt-get install openjdk-21-jre-headless -qq > /dev/null\n",
        "#import os\n",
        "#os.environ[\"JAVA_HOME\"] = \"/usr/lib/jvm/java-21-openjdk-amd64\"\n",
        "#!update-alternatives --set java /usr/lib/jvm/java-21-openjdk-amd64/bin/java\n",
        "#!java -version"
      ],
      "metadata": {
        "colab": {
          "base_uri": "https://localhost:8080/"
        },
        "id": "nBDwrCizYdak",
        "outputId": "ccb9ac76-7686-4499-f913-2334717c0ac3"
      },
      "execution_count": null,
      "outputs": [
        {
          "output_type": "stream",
          "name": "stdout",
          "text": [
            "openjdk version \"21.0.6\" 2025-01-21\n",
            "OpenJDK Runtime Environment (build 21.0.6+7-Ubuntu-122.04.1)\n",
            "OpenJDK 64-Bit Server VM (build 21.0.6+7-Ubuntu-122.04.1, mixed mode, sharing)\n"
          ]
        }
      ]
    },
    {
      "cell_type": "code",
      "metadata": {
        "id": "E_lt0-pXJia0",
        "colab": {
          "base_uri": "https://localhost:8080/"
        },
        "outputId": "f5002e4a-e7b1-40b3-abf6-77a84dd4a63e"
      },
      "source": [
        "!pip install pyserini\n",
        "# You can change this to gpu if you have one.\n",
        "# It's a pyserini dependency, but we won't need it until the next assignment.\n",
        "!pip install faiss-cpu"
      ],
      "execution_count": 20,
      "outputs": [
        {
          "output_type": "stream",
          "name": "stdout",
          "text": [
            "Requirement already satisfied: pyserini in /usr/local/lib/python3.11/dist-packages (0.44.0)\n",
            "Requirement already satisfied: tqdm in /usr/local/lib/python3.11/dist-packages (from pyserini) (4.67.1)\n",
            "Requirement already satisfied: pyyaml in /usr/local/lib/python3.11/dist-packages (from pyserini) (6.0.2)\n",
            "Requirement already satisfied: requests in /usr/local/lib/python3.11/dist-packages (from pyserini) (2.32.3)\n",
            "Requirement already satisfied: Cython>=0.29.21 in /usr/local/lib/python3.11/dist-packages (from pyserini) (3.0.12)\n",
            "Requirement already satisfied: numpy>=1.18.1 in /usr/local/lib/python3.11/dist-packages (from pyserini) (1.26.4)\n",
            "Requirement already satisfied: pandas>=1.4.0 in /usr/local/lib/python3.11/dist-packages (from pyserini) (2.2.2)\n",
            "Requirement already satisfied: pyjnius>=1.6.0 in /usr/local/lib/python3.11/dist-packages (from pyserini) (1.6.1)\n",
            "Requirement already satisfied: scikit-learn>=0.22.1 in /usr/local/lib/python3.11/dist-packages (from pyserini) (1.6.1)\n",
            "Requirement already satisfied: scipy>=1.4.1 in /usr/local/lib/python3.11/dist-packages (from pyserini) (1.13.1)\n",
            "Requirement already satisfied: transformers>=4.6.0 in /usr/local/lib/python3.11/dist-packages (from pyserini) (4.48.3)\n",
            "Requirement already satisfied: torch>=2.4.0 in /usr/local/lib/python3.11/dist-packages (from pyserini) (2.5.1+cu124)\n",
            "Requirement already satisfied: onnxruntime>=1.8.1 in /usr/local/lib/python3.11/dist-packages (from pyserini) (1.20.1)\n",
            "Requirement already satisfied: openai>=1.0.0 in /usr/local/lib/python3.11/dist-packages (from pyserini) (1.61.1)\n",
            "Requirement already satisfied: sentencepiece>=0.2 in /usr/local/lib/python3.11/dist-packages (from pyserini) (0.2.0)\n",
            "Requirement already satisfied: tiktoken>=0.4.0 in /usr/local/lib/python3.11/dist-packages (from pyserini) (0.9.0)\n",
            "Requirement already satisfied: flask>3.0 in /usr/local/lib/python3.11/dist-packages (from pyserini) (3.1.0)\n",
            "Requirement already satisfied: pillow>=10.2.0 in /usr/local/lib/python3.11/dist-packages (from pyserini) (11.1.0)\n",
            "Requirement already satisfied: Werkzeug>=3.1 in /usr/local/lib/python3.11/dist-packages (from flask>3.0->pyserini) (3.1.3)\n",
            "Requirement already satisfied: Jinja2>=3.1.2 in /usr/local/lib/python3.11/dist-packages (from flask>3.0->pyserini) (3.1.5)\n",
            "Requirement already satisfied: itsdangerous>=2.2 in /usr/local/lib/python3.11/dist-packages (from flask>3.0->pyserini) (2.2.0)\n",
            "Requirement already satisfied: click>=8.1.3 in /usr/local/lib/python3.11/dist-packages (from flask>3.0->pyserini) (8.1.8)\n",
            "Requirement already satisfied: blinker>=1.9 in /usr/local/lib/python3.11/dist-packages (from flask>3.0->pyserini) (1.9.0)\n",
            "Requirement already satisfied: coloredlogs in /usr/local/lib/python3.11/dist-packages (from onnxruntime>=1.8.1->pyserini) (15.0.1)\n",
            "Requirement already satisfied: flatbuffers in /usr/local/lib/python3.11/dist-packages (from onnxruntime>=1.8.1->pyserini) (25.2.10)\n",
            "Requirement already satisfied: packaging in /usr/local/lib/python3.11/dist-packages (from onnxruntime>=1.8.1->pyserini) (24.2)\n",
            "Requirement already satisfied: protobuf in /usr/local/lib/python3.11/dist-packages (from onnxruntime>=1.8.1->pyserini) (4.25.6)\n",
            "Requirement already satisfied: sympy in /usr/local/lib/python3.11/dist-packages (from onnxruntime>=1.8.1->pyserini) (1.13.1)\n",
            "Requirement already satisfied: anyio<5,>=3.5.0 in /usr/local/lib/python3.11/dist-packages (from openai>=1.0.0->pyserini) (3.7.1)\n",
            "Requirement already satisfied: distro<2,>=1.7.0 in /usr/local/lib/python3.11/dist-packages (from openai>=1.0.0->pyserini) (1.9.0)\n",
            "Requirement already satisfied: httpx<1,>=0.23.0 in /usr/local/lib/python3.11/dist-packages (from openai>=1.0.0->pyserini) (0.28.1)\n",
            "Requirement already satisfied: jiter<1,>=0.4.0 in /usr/local/lib/python3.11/dist-packages (from openai>=1.0.0->pyserini) (0.8.2)\n",
            "Requirement already satisfied: pydantic<3,>=1.9.0 in /usr/local/lib/python3.11/dist-packages (from openai>=1.0.0->pyserini) (2.10.6)\n",
            "Requirement already satisfied: sniffio in /usr/local/lib/python3.11/dist-packages (from openai>=1.0.0->pyserini) (1.3.1)\n",
            "Requirement already satisfied: typing-extensions<5,>=4.11 in /usr/local/lib/python3.11/dist-packages (from openai>=1.0.0->pyserini) (4.12.2)\n",
            "Requirement already satisfied: python-dateutil>=2.8.2 in /usr/local/lib/python3.11/dist-packages (from pandas>=1.4.0->pyserini) (2.8.2)\n",
            "Requirement already satisfied: pytz>=2020.1 in /usr/local/lib/python3.11/dist-packages (from pandas>=1.4.0->pyserini) (2025.1)\n",
            "Requirement already satisfied: tzdata>=2022.7 in /usr/local/lib/python3.11/dist-packages (from pandas>=1.4.0->pyserini) (2025.1)\n",
            "Requirement already satisfied: joblib>=1.2.0 in /usr/local/lib/python3.11/dist-packages (from scikit-learn>=0.22.1->pyserini) (1.4.2)\n",
            "Requirement already satisfied: threadpoolctl>=3.1.0 in /usr/local/lib/python3.11/dist-packages (from scikit-learn>=0.22.1->pyserini) (3.5.0)\n",
            "Requirement already satisfied: regex>=2022.1.18 in /usr/local/lib/python3.11/dist-packages (from tiktoken>=0.4.0->pyserini) (2024.11.6)\n",
            "Requirement already satisfied: charset-normalizer<4,>=2 in /usr/local/lib/python3.11/dist-packages (from requests->pyserini) (3.4.1)\n",
            "Requirement already satisfied: idna<4,>=2.5 in /usr/local/lib/python3.11/dist-packages (from requests->pyserini) (3.10)\n",
            "Requirement already satisfied: urllib3<3,>=1.21.1 in /usr/local/lib/python3.11/dist-packages (from requests->pyserini) (2.3.0)\n",
            "Requirement already satisfied: certifi>=2017.4.17 in /usr/local/lib/python3.11/dist-packages (from requests->pyserini) (2025.1.31)\n",
            "Requirement already satisfied: filelock in /usr/local/lib/python3.11/dist-packages (from torch>=2.4.0->pyserini) (3.17.0)\n",
            "Requirement already satisfied: networkx in /usr/local/lib/python3.11/dist-packages (from torch>=2.4.0->pyserini) (3.4.2)\n",
            "Requirement already satisfied: fsspec in /usr/local/lib/python3.11/dist-packages (from torch>=2.4.0->pyserini) (2024.10.0)\n",
            "Requirement already satisfied: nvidia-cuda-nvrtc-cu12==12.4.127 in /usr/local/lib/python3.11/dist-packages (from torch>=2.4.0->pyserini) (12.4.127)\n",
            "Requirement already satisfied: nvidia-cuda-runtime-cu12==12.4.127 in /usr/local/lib/python3.11/dist-packages (from torch>=2.4.0->pyserini) (12.4.127)\n",
            "Requirement already satisfied: nvidia-cuda-cupti-cu12==12.4.127 in /usr/local/lib/python3.11/dist-packages (from torch>=2.4.0->pyserini) (12.4.127)\n",
            "Requirement already satisfied: nvidia-cudnn-cu12==9.1.0.70 in /usr/local/lib/python3.11/dist-packages (from torch>=2.4.0->pyserini) (9.1.0.70)\n",
            "Requirement already satisfied: nvidia-cublas-cu12==12.4.5.8 in /usr/local/lib/python3.11/dist-packages (from torch>=2.4.0->pyserini) (12.4.5.8)\n",
            "Requirement already satisfied: nvidia-cufft-cu12==11.2.1.3 in /usr/local/lib/python3.11/dist-packages (from torch>=2.4.0->pyserini) (11.2.1.3)\n",
            "Requirement already satisfied: nvidia-curand-cu12==10.3.5.147 in /usr/local/lib/python3.11/dist-packages (from torch>=2.4.0->pyserini) (10.3.5.147)\n",
            "Requirement already satisfied: nvidia-cusolver-cu12==11.6.1.9 in /usr/local/lib/python3.11/dist-packages (from torch>=2.4.0->pyserini) (11.6.1.9)\n",
            "Requirement already satisfied: nvidia-cusparse-cu12==12.3.1.170 in /usr/local/lib/python3.11/dist-packages (from torch>=2.4.0->pyserini) (12.3.1.170)\n",
            "Requirement already satisfied: nvidia-nccl-cu12==2.21.5 in /usr/local/lib/python3.11/dist-packages (from torch>=2.4.0->pyserini) (2.21.5)\n",
            "Requirement already satisfied: nvidia-nvtx-cu12==12.4.127 in /usr/local/lib/python3.11/dist-packages (from torch>=2.4.0->pyserini) (12.4.127)\n",
            "Requirement already satisfied: nvidia-nvjitlink-cu12==12.4.127 in /usr/local/lib/python3.11/dist-packages (from torch>=2.4.0->pyserini) (12.4.127)\n",
            "Requirement already satisfied: triton==3.1.0 in /usr/local/lib/python3.11/dist-packages (from torch>=2.4.0->pyserini) (3.1.0)\n",
            "Requirement already satisfied: mpmath<1.4,>=1.1.0 in /usr/local/lib/python3.11/dist-packages (from sympy->onnxruntime>=1.8.1->pyserini) (1.3.0)\n",
            "Requirement already satisfied: huggingface-hub<1.0,>=0.24.0 in /usr/local/lib/python3.11/dist-packages (from transformers>=4.6.0->pyserini) (0.28.1)\n",
            "Requirement already satisfied: tokenizers<0.22,>=0.21 in /usr/local/lib/python3.11/dist-packages (from transformers>=4.6.0->pyserini) (0.21.0)\n",
            "Requirement already satisfied: safetensors>=0.4.1 in /usr/local/lib/python3.11/dist-packages (from transformers>=4.6.0->pyserini) (0.5.3)\n",
            "Requirement already satisfied: httpcore==1.* in /usr/local/lib/python3.11/dist-packages (from httpx<1,>=0.23.0->openai>=1.0.0->pyserini) (1.0.7)\n",
            "Requirement already satisfied: h11<0.15,>=0.13 in /usr/local/lib/python3.11/dist-packages (from httpcore==1.*->httpx<1,>=0.23.0->openai>=1.0.0->pyserini) (0.14.0)\n",
            "Requirement already satisfied: MarkupSafe>=2.0 in /usr/local/lib/python3.11/dist-packages (from Jinja2>=3.1.2->flask>3.0->pyserini) (3.0.2)\n",
            "Requirement already satisfied: annotated-types>=0.6.0 in /usr/local/lib/python3.11/dist-packages (from pydantic<3,>=1.9.0->openai>=1.0.0->pyserini) (0.7.0)\n",
            "Requirement already satisfied: pydantic-core==2.27.2 in /usr/local/lib/python3.11/dist-packages (from pydantic<3,>=1.9.0->openai>=1.0.0->pyserini) (2.27.2)\n",
            "Requirement already satisfied: six>=1.5 in /usr/local/lib/python3.11/dist-packages (from python-dateutil>=2.8.2->pandas>=1.4.0->pyserini) (1.17.0)\n",
            "Requirement already satisfied: humanfriendly>=9.1 in /usr/local/lib/python3.11/dist-packages (from coloredlogs->onnxruntime>=1.8.1->pyserini) (10.0)\n",
            "Collecting faiss-cpu\n",
            "  Downloading faiss_cpu-1.10.0-cp311-cp311-manylinux_2_28_x86_64.whl.metadata (4.4 kB)\n",
            "Requirement already satisfied: numpy<3.0,>=1.25.0 in /usr/local/lib/python3.11/dist-packages (from faiss-cpu) (1.26.4)\n",
            "Requirement already satisfied: packaging in /usr/local/lib/python3.11/dist-packages (from faiss-cpu) (24.2)\n",
            "Downloading faiss_cpu-1.10.0-cp311-cp311-manylinux_2_28_x86_64.whl (30.7 MB)\n",
            "\u001b[2K   \u001b[90m━━━━━━━━━━━━━━━━━━━━━━━━━━━━━━━━━━━━━━━━\u001b[0m \u001b[32m30.7/30.7 MB\u001b[0m \u001b[31m26.2 MB/s\u001b[0m eta \u001b[36m0:00:00\u001b[0m\n",
            "\u001b[?25hInstalling collected packages: faiss-cpu\n",
            "Successfully installed faiss-cpu-1.10.0\n"
          ]
        }
      ]
    },
    {
      "cell_type": "markdown",
      "metadata": {
        "id": "NkD0kKxW9mHP"
      },
      "source": [
        "You can use the `LuceneSearcher` to search over an index. We can initialize the searcher with a pre-built index, which Pyserini will automatically download if it hasn't already. Note that the index takes up 1.6GB of disk."
      ]
    },
    {
      "cell_type": "code",
      "metadata": {
        "id": "zVoAZvuAI_la"
      },
      "source": [
        "from pyserini.search.lucene import LuceneSearcher\n",
        "\n",
        "searcher = LuceneSearcher.from_prebuilt_index('robust04')"
      ],
      "execution_count": 8,
      "outputs": []
    },
    {
      "cell_type": "markdown",
      "metadata": {
        "id": "N6xHyonHJDKy"
      },
      "source": [
        "Now we can search for a query and inspect the results:"
      ]
    },
    {
      "cell_type": "code",
      "metadata": {
        "id": "yFZlcqEX0t1f",
        "colab": {
          "base_uri": "https://localhost:8080/"
        },
        "outputId": "7342d63e-c7dc-46ca-9796-095f34c6dfd6"
      },
      "source": [
        "hits = searcher.search('black bear attacks', 1000)\n",
        "\n",
        "# Prints the first 10 hits\n",
        "for i in range(0, 10):\n",
        "    print(f'{i+1:2} {hits[i].docid:15} {hits[i].score:.5f}')"
      ],
      "execution_count": 9,
      "outputs": [
        {
          "output_type": "stream",
          "name": "stdout",
          "text": [
            " 1 LA092790-0015   7.06680\n",
            " 2 LA081689-0039   6.89020\n",
            " 3 FBIS4-16530     6.61630\n",
            " 4 LA102589-0076   6.46450\n",
            " 5 FT932-15491     6.25090\n",
            " 6 FBIS3-12276     6.24630\n",
            " 7 LA091090-0085   6.17030\n",
            " 8 FT922-13519     6.04270\n",
            " 9 LA052790-0205   5.94060\n",
            "10 LA103089-0041   5.90650\n"
          ]
        }
      ]
    },
    {
      "cell_type": "markdown",
      "metadata": {
        "id": "emoSTga_7fOB"
      },
      "source": [
        "The `IndexReaderUtils` class provides various methods to read the index directly. For example, we can fetch a raw document from the index given its `docid`:"
      ]
    },
    {
      "cell_type": "code",
      "metadata": {
        "id": "N5ApT1YG71mz",
        "colab": {
          "base_uri": "https://localhost:8080/",
          "height": 668
        },
        "outputId": "855c34c4-6488-4121-8894-a853cf8d5101"
      },
      "source": [
        "from pyserini.index import LuceneIndexReader\n",
        "from IPython.core.display import display, HTML\n",
        "\n",
        "reader = LuceneIndexReader.from_prebuilt_index('robust04')\n",
        "\n",
        "doc = reader.doc('LA092790-0015').raw()\n",
        "display(HTML('<div style=\"font-family: Times New Roman; padding-bottom:10px\">' + doc + '</div>'))"
      ],
      "execution_count": 10,
      "outputs": [
        {
          "output_type": "display_data",
          "data": {
            "text/plain": [
              "<IPython.core.display.HTML object>"
            ],
            "text/html": [
              "<div style=\"font-family: Times New Roman; padding-bottom:10px\"><DATE>\n",
              "<P>\n",
              "September 27, 1990, Thursday, Ventura County Edition\n",
              "</P>\n",
              "</DATE>\n",
              "<HEADLINE>\n",
              "<P>\n",
              "HUNGRY WILDLIFE STRAYING INTO SUBURBS;\n",
              "</P>\n",
              "<P>\n",
              "DROUGHT: FOUR DRY YEARS HAVE PARCHED NATIVE VEGETATION, FORCING BOBCATS, BEARS,\n",
              "MOUNTAIN LIONS, DEER AND COYOTES TO FORAGE CLOSER TO INHABITED AREAS.\n",
              "</P>\n",
              "</HEADLINE>\n",
              "<TEXT>\n",
              "<P>\n",
              "Hungry bobcats, bears and mountain lions -- unable to find food in Ventura\n",
              "County's drought-parched forests -- are being pushed out of their natural\n",
              "habitats to scavenge in rural communities, game officials said Wednesday.\n",
              "</P>\n",
              "<P>\n",
              "Two weeks ago, a black bear ripped the door off a trailer home in Rose Valley\n",
              "just north of Ojai. And within the past month, there have been several reports\n",
              "of mountain lions eating livestock near Los Padres National Forest. Several\n",
              "bobcats have been reported near houses in the Ojai Valley.\n",
              "</P>\n",
              "<P>\n",
              "Authorities say that over the past two years they have received twice the\n",
              "complaints -- about 20 a month -- of wild animals in populated areas. The\n",
              "drought is now in its fourth year in California.\n",
              "</P>\n",
              "<P>\n",
              "\"We've been having more and more conflicts with animals,\" said Capt. Roger\n",
              "Reese, with the state Department of Fish and Game. \"The fact is, it's very dry\n",
              "out there, and there just isn't a lot of food and water for them.\"\n",
              "</P>\n",
              "<P>\n",
              "Animal control officials say they are advising residents in rural areas to be\n",
              "aware of the problem. But so far, no one has been attacked by the wild animals,\n",
              "although there have been such attacks reported elsewhere in Southern\n",
              "California, authorities said.\n",
              "</P>\n",
              "<P>\n",
              "Coyotes have been running amok, officials said. Virtually all parts of the\n",
              "county except beach areas probably have been visited at one time or another by\n",
              "coyotes, said Kathy Jenks, director of the Ventura County Department of Animal\n",
              "Regulation.\n",
              "</P>\n",
              "<P>\n",
              "In Ventura, coyotes are often seen in Grant Park above City Hall, and in Arroyo\n",
              "Verde Park in the Ondulando district on the east side, Jenks said.\n",
              "</P>\n",
              "<P>\n",
              "Elsewhere, coyotes have been seen on streets in Thousand Oaks, Moorpark and\n",
              "Simi Valley. The rural, foothill developments are especially vulnerable, she\n",
              "said.\n",
              "</P>\n",
              "<P>\n",
              "Jenks said she advises residents to keep small pets inside, especially at\n",
              "night.\n",
              "</P>\n",
              "<P>\n",
              "There have even been a few cases in which brazen coyotes have attacked family\n",
              "animals in back yards, and a large number of house cats are disappearing,\n",
              "officials said.\n",
              "</P>\n",
              "<P>\n",
              "\"The common house cat is like a fancy feast for a coyote,\" she said. \"They're\n",
              "hungry, they're thirsty and they're coming down out of the hills.\"\n",
              "</P>\n",
              "<P>\n",
              "There have been a few reports of deer grazing in people's yards, Reese said.\n",
              "</P>\n",
              "<P>\n",
              "Traditionally, September is the worst month for wildlife, authorities said.\n",
              "</P>\n",
              "<P>\n",
              "\"It is usually the driest month,\" Reese said. \"And a lot of animals that have\n",
              "been raised in the spring leave their parents and go in search of food.\"\n",
              "</P>\n",
              "<P>\n",
              "More animals are expected to leave their natural habitats if the drought\n",
              "continues, officials said.\n",
              "</P>\n",
              "<P>\n",
              "\"I tell people who call that if we didn't have the big cats and the coyotes, we\n",
              "would be overrun by rodents,\" Jenks said. \"I would much rather hear a coyote in\n",
              "the distance than have roof rats.\"\n",
              "</P>\n",
              "<P>\n",
              "Don DeBusschere, who lives on a 45-acre walnut orchard in Happy Valley near\n",
              "Ojai, said his family has grown accustomed to wild animals. DeBusschere said he\n",
              "has seen scores of coyotes, several deer and a black bear.\n",
              "</P>\n",
              "<P>\n",
              "Recently, he said, two bobcats have moved into the trees on the edge of his\n",
              "property.\n",
              "</P>\n",
              "<P>\n",
              "\"They're not out to get humans,\" DeBusschere said. \"They're just trying to make\n",
              "a living off the land.\"\n",
              "</P>\n",
              "</TEXT></div>"
            ]
          },
          "metadata": {}
        }
      ]
    },
    {
      "cell_type": "markdown",
      "metadata": {
        "id": "1RMfMgWt8bgm"
      },
      "source": [
        "Note that the result is exactly the same as displaying the hit contents above. Given the raw text, we can obtain its analyzed form (i.e., tokenized, stemmed, stopwords removed, etc.). Here we show the first ten tokens:"
      ]
    },
    {
      "cell_type": "code",
      "metadata": {
        "id": "ZgNGM65F6m5h",
        "colab": {
          "base_uri": "https://localhost:8080/"
        },
        "outputId": "a821abc5-e281-417e-910b-998ae37f8874"
      },
      "source": [
        "analyzed = reader.analyze(doc)\n",
        "analyzed[0:10]"
      ],
      "execution_count": 11,
      "outputs": [
        {
          "output_type": "execute_result",
          "data": {
            "text/plain": [
              "['date',\n",
              " 'p',\n",
              " 'septemb',\n",
              " '27',\n",
              " '1990',\n",
              " 'thursdai',\n",
              " 'ventura',\n",
              " 'counti',\n",
              " 'edit',\n",
              " 'p']"
            ]
          },
          "metadata": {},
          "execution_count": 11
        }
      ]
    },
    {
      "cell_type": "markdown",
      "metadata": {
        "id": "Z5OUXedN89Yf"
      },
      "source": [
        "The index also stores the raw document vector, which we can obtain as a Python dictionary of analyzed terms to counts (i.e., term frequency).\n",
        "For brevity, we only look at terms that appear more than once:"
      ]
    },
    {
      "cell_type": "code",
      "metadata": {
        "id": "mMtneeJw8HDI",
        "colab": {
          "base_uri": "https://localhost:8080/"
        },
        "outputId": "5ca4957c-b6e2-4569-b482-108ba9516b73"
      },
      "source": [
        "doc_vector = reader.get_document_vector('LA092790-0015')\n",
        "{ k: v for (k, v) in doc_vector.items() if v >1 }"
      ],
      "execution_count": 12,
      "outputs": [
        {
          "output_type": "execute_result",
          "data": {
            "text/plain": [
              "{'been': 11,\n",
              " 'habitat': 2,\n",
              " 'year': 3,\n",
              " 'jenk': 4,\n",
              " 'mountain': 3,\n",
              " 'rees': 3,\n",
              " 'would': 2,\n",
              " 'debusscher': 3,\n",
              " 'near': 3,\n",
              " 'hungri': 3,\n",
              " 'past': 2,\n",
              " 'especi': 2,\n",
              " 'wildlif': 2,\n",
              " 'lion': 3,\n",
              " 'ventura': 4,\n",
              " 'anim': 9,\n",
              " 'forest': 2,\n",
              " 'two': 3,\n",
              " 'seen': 3,\n",
              " 'attack': 3,\n",
              " 'black': 2,\n",
              " 'i': 2,\n",
              " 'food': 3,\n",
              " 'counti': 4,\n",
              " 'rural': 3,\n",
              " \"they'r\": 5,\n",
              " 'sever': 3,\n",
              " 'california': 2,\n",
              " 'advis': 2,\n",
              " 'parch': 2,\n",
              " 'area': 4,\n",
              " 'she': 3,\n",
              " 'month': 4,\n",
              " 'deer': 3,\n",
              " 'famili': 2,\n",
              " 'we': 2,\n",
              " 'peopl': 2,\n",
              " 'just': 3,\n",
              " 'live': 2,\n",
              " 'drought': 4,\n",
              " 'ha': 3,\n",
              " 'he': 2,\n",
              " 'hi': 2,\n",
              " 'septemb': 2,\n",
              " 'yard': 2,\n",
              " 'elsewher': 2,\n",
              " 'natur': 2,\n",
              " 'out': 4,\n",
              " 'lot': 2,\n",
              " 'have': 16,\n",
              " 'leav': 2,\n",
              " 'more': 3,\n",
              " 'off': 2,\n",
              " 'ojai': 3,\n",
              " 'report': 4,\n",
              " 'bobcat': 4,\n",
              " 'coyot': 10,\n",
              " 'few': 2,\n",
              " 'bear': 4,\n",
              " 'depart': 2,\n",
              " 'author': 3,\n",
              " 'dry': 2,\n",
              " 'vallei': 4,\n",
              " 'who': 2,\n",
              " 'game': 2,\n",
              " 'resid': 2,\n",
              " 'hous': 3,\n",
              " 'cat': 3,\n",
              " 'sai': 2,\n",
              " 'said': 19,\n",
              " 'park': 2,\n",
              " 'on': 2,\n",
              " 'offici': 5,\n",
              " 'wild': 3}"
            ]
          },
          "metadata": {},
          "execution_count": 12
        }
      ]
    },
    {
      "cell_type": "markdown",
      "source": [
        "## Evaluating Ranked Results\n",
        "\n",
        "We can load some standard evaluation sets such as Robust04, which contains 250 queries, or \"topics\" as the TREC conferences call them."
      ],
      "metadata": {
        "id": "GOFVMQKLyW1S"
      }
    },
    {
      "cell_type": "code",
      "source": [
        "from pyserini.search import get_topics\n",
        "topics = get_topics('robust04')\n",
        "print(f'{len(topics)} queries total')"
      ],
      "metadata": {
        "colab": {
          "base_uri": "https://localhost:8080/"
        },
        "id": "Q1sdhbDTdwqf",
        "outputId": "40d29955-ebf5-4926-e34b-9b3bf50a4aeb"
      },
      "execution_count": 13,
      "outputs": [
        {
          "output_type": "stream",
          "name": "stdout",
          "text": [
            "250 queries total\n"
          ]
        }
      ]
    },
    {
      "cell_type": "markdown",
      "source": [
        "The topics are in a dictionary, whose keys are integers uniquely identifying each query. Each topic contains the following fields:\n",
        "\n",
        "* `title`: TREC's term for the brief query a user might actually type;\n",
        "* `description`: a longer form of the query in the form of a complete sentence; and\n",
        "* `narrative`: a description of what the user is looking for and what kinds of results would be relevant or non-relevant."
      ],
      "metadata": {
        "id": "RbODj6sezBvB"
      }
    },
    {
      "cell_type": "code",
      "source": [
        "topics[301]"
      ],
      "metadata": {
        "colab": {
          "base_uri": "https://localhost:8080/"
        },
        "id": "KBOeSkJxy-8R",
        "outputId": "41f4e30d-869e-4bad-c1ee-446d41e1d1ec"
      },
      "execution_count": 14,
      "outputs": [
        {
          "output_type": "execute_result",
          "data": {
            "text/plain": [
              "{'narrative': 'A relevant document must as a minimum identify the organization and the type of illegal activity (e.g., Columbian cartel exporting cocaine). Vague references to international drug trade without identification of the organization(s) involved would not be relevant.',\n",
              " 'description': 'Identify organizations that participate in international criminal activity, the activity, and, if possible, collaborating organizations and the countries involved.',\n",
              " 'title': 'International Organized Crime'}"
            ]
          },
          "metadata": {},
          "execution_count": 14
        }
      ]
    },
    {
      "cell_type": "markdown",
      "source": [
        "For the purpose of your experiments, we'll divide them into a development and test set."
      ],
      "metadata": {
        "id": "gMbgbZVqyzdj"
      }
    },
    {
      "cell_type": "code",
      "source": [
        "dev_topics = {k:topics[k] for k in list(topics.keys())[:125]}\n",
        "test_topics = {k:topics[k] for k in list(topics.keys())[125:]}"
      ],
      "metadata": {
        "id": "LILkqQDqd3Tj"
      },
      "execution_count": 15,
      "outputs": []
    },
    {
      "cell_type": "markdown",
      "source": [
        "Now, we'll fetch the relevance judgments for the Robust04 queries, which TREC calls \"qrels\"."
      ],
      "metadata": {
        "id": "HTY9-DMyzuU5"
      }
    },
    {
      "cell_type": "code",
      "source": [
        "from urllib.request import urlopen\n",
        "\n",
        "qfile = 'https://github.com/castorini/anserini-tools/blob/63ceeab1dd94c1221f29b931d868e8fab67cc25c/topics-and-qrels/qrels.robust04.txt?raw=true'\n",
        "qrels = []\n",
        "for line in urlopen(qfile):\n",
        "  qid, round, docid, score = line.strip().split()\n",
        "  qrels.append([int(qid), 0, docid.decode('UTF-8'), int(score)])\n",
        "#qrels = [line.strip().split() for line in urlopen(qfile)]"
      ],
      "metadata": {
        "id": "b53vacvvf6fw"
      },
      "execution_count": 16,
      "outputs": []
    },
    {
      "cell_type": "markdown",
      "source": [
        "Each record in the qrel contains four fields:\n",
        "\n",
        "1. the numeric identifier of the query;\n",
        "2. the round of relevance feedback, which is here always 0;\n",
        "3. the identifier of a documennt that has been judged; and\n",
        "4. the relevance score of that document.\n",
        "\n",
        "In Robust04, all relevance judgments are binary, i.e., 1 or 0. Note that not all non-relevant documents are recorded. The qrel file only contains those documents the annotators actually looked at; the vast majority of documents in the collection have not been judged. In IR evaluation, we assume that unannotated documents are non-relevant."
      ],
      "metadata": {
        "id": "BXg8YO590Aky"
      }
    },
    {
      "cell_type": "code",
      "source": [
        "qrels[0:10]"
      ],
      "metadata": {
        "colab": {
          "base_uri": "https://localhost:8080/"
        },
        "id": "ZJblOI_pgZBh",
        "outputId": "4874aa0e-2616-43bd-b24c-7bf10de5185e"
      },
      "execution_count": 17,
      "outputs": [
        {
          "output_type": "execute_result",
          "data": {
            "text/plain": [
              "[[301, 0, 'FBIS3-10082', 1],\n",
              " [301, 0, 'FBIS3-10169', 0],\n",
              " [301, 0, 'FBIS3-10243', 1],\n",
              " [301, 0, 'FBIS3-10319', 0],\n",
              " [301, 0, 'FBIS3-10397', 1],\n",
              " [301, 0, 'FBIS3-10491', 1],\n",
              " [301, 0, 'FBIS3-10555', 0],\n",
              " [301, 0, 'FBIS3-10622', 1],\n",
              " [301, 0, 'FBIS3-10634', 0],\n",
              " [301, 0, 'FBIS3-10635', 0]]"
            ]
          },
          "metadata": {},
          "execution_count": 17
        }
      ]
    },
    {
      "cell_type": "markdown",
      "source": [
        "## Computing Mean Average Precision\n",
        "\n",
        "The Robust04 collection uses binary relevance judgments and usually has multiple relevant results for each query. It is thus common to use **mean average precision** (MAP) to evaluate retrieval performance on it. Remember from class that MAP adds the precision at the position of each _relevant_ document in a ranked list and then divides by the total number of relevant documents. So that we don't have to scan through the entire collection, we usually evaluate MAP at some maximum rank value, such as 100 or 1000. We simply stop scanning at that maximum rank.\n",
        "\n",
        "As we saw above, you should pass a query string (the `title` of a topic) and the desired number of results to the `search` method of the `searcher` object."
      ],
      "metadata": {
        "id": "LoDPnv1b04lP"
      }
    },
    {
      "cell_type": "code",
      "source": [
        "hits = searcher.search(dev_topics[355]['title'], 1000)\n",
        "[(hit.docid, hit.score) for hit in hits[0:10]]"
      ],
      "metadata": {
        "colab": {
          "base_uri": "https://localhost:8080/"
        },
        "id": "pvcF6KPN8jew",
        "outputId": "62cd531d-0d65-445b-fea0-40b379314657"
      },
      "execution_count": 18,
      "outputs": [
        {
          "output_type": "execute_result",
          "data": {
            "text/plain": [
              "[('FBIS4-20436', 11.349300384521484),\n",
              " ('FBIS3-23683', 9.126500129699707),\n",
              " ('FBIS3-21238', 8.309300422668457),\n",
              " ('FBIS4-44915', 7.935699939727783),\n",
              " ('FBIS4-20602', 7.6006999015808105),\n",
              " ('FBIS4-47382', 7.529600143432617),\n",
              " ('FT943-1589', 7.480100154876709),\n",
              " ('LA071789-0059', 7.451399803161621),\n",
              " ('FBIS4-22145', 7.215099811553955),\n",
              " ('FBIS4-44667', 7.106500148773193)]"
            ]
          },
          "metadata": {},
          "execution_count": 18
        }
      ]
    },
    {
      "cell_type": "markdown",
      "source": [
        "For this assignment, evaluate MAP@1000 for the list of `test_topics` we created above. You should process the `qrels` data to find the relevant results for each query."
      ],
      "metadata": {
        "id": "407VkQsK8h6T"
      }
    },
    {
      "cell_type": "code",
      "source": [
        "## TODO [35 points]: Compute MAP@1000 for test_topics\n",
        "\n",
        "def calculate_map_at_1000(searcher, test_topics, qrels):\n",
        "    qrels_by_topic = {}\n",
        "    for item in qrels:\n",
        "        topic_id = item[0]\n",
        "        if topic_id not in qrels_by_topic:\n",
        "            qrels_by_topic[topic_id] = []\n",
        "        qrels_by_topic[topic_id].append(item)\n",
        "    ap_values = []\n",
        "    processed_topics = 0\n",
        "\n",
        "    for topic_id, topic_data in test_topics.items():\n",
        "        processed_topics += 1\n",
        "\n",
        "        query = topic_data['title']\n",
        "\n",
        "        if topic_id not in qrels_by_topic:\n",
        "            continue\n",
        "\n",
        "        relevant_docs = set([item[2] for item in qrels_by_topic[topic_id] if item[3] == 1])\n",
        "\n",
        "        if not relevant_docs:\n",
        "            continue\n",
        "\n",
        "        hits = searcher.search(query, 1000)\n",
        "\n",
        "        seen_relevant = 0\n",
        "        precision_sum = 0.0\n",
        "\n",
        "        for i, hit in enumerate(hits):\n",
        "            if i >= 1000:\n",
        "                break\n",
        "\n",
        "            if hit.docid in relevant_docs:\n",
        "                seen_relevant += 1\n",
        "                precision_at_k = seen_relevant / (i + 1)\n",
        "                precision_sum += precision_at_k\n",
        "\n",
        "        ap = precision_sum / len(relevant_docs)\n",
        "        ap_values.append(ap)\n",
        "\n",
        "    map_at_1000 = sum(ap_values) / len(ap_values) if ap_values else 0.0\n",
        "    return map_at_1000\n",
        "\n",
        "searcher = LuceneSearcher.from_prebuilt_index('robust04')\n",
        "\n",
        "map_score = calculate_map_at_1000(searcher, test_topics, qrels)\n",
        "print(f\"MAP@1000: {map_score}\")"
      ],
      "metadata": {
        "id": "aGQK-C935EVA",
        "colab": {
          "base_uri": "https://localhost:8080/"
        },
        "outputId": "7f0fff75-1eba-4e3a-99f7-63bf7e48605e"
      },
      "execution_count": 22,
      "outputs": [
        {
          "output_type": "stream",
          "name": "stdout",
          "text": [
            "MAP@1000: 0.23485221629843145\n"
          ]
        }
      ]
    },
    {
      "cell_type": "markdown",
      "source": [
        "## Implementing a Query Likelihood Model\n",
        "\n",
        "The default `LuceneSearcher` in pyserini uses a BM25 model. In this part of the assignment, you'll interact directly with the index to implement a query likelihood retrieval model.  For more details on pyserini's index API, [see the documentation](https://github.com/castorini/pyserini/blob/master/docs/usage-indexreader.md).\n",
        "\n",
        "We've already created an `IndexReader` for the Robust04 collection and assigned it to `reader`. Remember that we can pass documents or queries through the index's predefined analysis pipeline, a series of operations like stemming, stopword removal, etc."
      ],
      "metadata": {
        "id": "MpdecWki1sxo"
      }
    },
    {
      "cell_type": "code",
      "source": [
        "reader.analyze('Are there black bear attacks there?')"
      ],
      "metadata": {
        "colab": {
          "base_uri": "https://localhost:8080/"
        },
        "id": "HaDprYgo-yRz",
        "outputId": "6c7a6d4c-e0fd-4c12-c09c-4961f78c0cdf"
      },
      "execution_count": 24,
      "outputs": [
        {
          "output_type": "execute_result",
          "data": {
            "text/plain": [
              "['black', 'bear', 'attack']"
            ]
          },
          "metadata": {},
          "execution_count": 24
        }
      ]
    },
    {
      "cell_type": "markdown",
      "source": [
        "For most retrieval models, including BM25 and query likelihood, we'll want to know the overall statistics for the terms we retrieve from the index. By default, pyserini will do stemming and other \"analysis\" steps on the terms you give it. But since we're already working with stemmed queries, we'll tell it not to perform this analysis now."
      ],
      "metadata": {
        "id": "hs11fpZY-4H8"
      }
    },
    {
      "cell_type": "code",
      "source": [
        "# Just checking that our term is already in its index form.\n",
        "print(reader.analyze('bear'))\n",
        "\n",
        "df, cf = reader.get_term_counts('bear', analyzer=None)\n",
        "print(f'The document frequency is {df} and the collection frequency is {cf}.')"
      ],
      "metadata": {
        "colab": {
          "base_uri": "https://localhost:8080/"
        },
        "id": "ZNHf3z1Y_gy2",
        "outputId": "64e32d13-892f-4068-aba0-f9b69316b2e4"
      },
      "execution_count": 25,
      "outputs": [
        {
          "output_type": "stream",
          "name": "stdout",
          "text": [
            "['bear']\n",
            "The document frequency is 16429 and the collection frequency is 23545.\n"
          ]
        }
      ]
    },
    {
      "cell_type": "markdown",
      "source": [
        "You might also want to know summary statistics about the collection."
      ],
      "metadata": {
        "id": "FLGz4mncCuyd"
      }
    },
    {
      "cell_type": "code",
      "source": [
        "reader.stats()"
      ],
      "metadata": {
        "colab": {
          "base_uri": "https://localhost:8080/"
        },
        "id": "7L0l9hO4Cx5V",
        "outputId": "0eb9bca9-9861-4f08-d308-0e29c9fb1686"
      },
      "execution_count": 26,
      "outputs": [
        {
          "output_type": "execute_result",
          "data": {
            "text/plain": [
              "{'total_terms': 174540872,\n",
              " 'documents': 528030,\n",
              " 'non_empty_documents': 528030,\n",
              " 'unique_terms': 923436}"
            ]
          },
          "metadata": {},
          "execution_count": 26
        }
      ]
    },
    {
      "cell_type": "markdown",
      "source": [
        "**Now** let's traverse the postings for a term."
      ],
      "metadata": {
        "id": "o7878QVlAPWA"
      }
    },
    {
      "cell_type": "code",
      "source": [
        "posting_list = reader.get_postings_list('bear', analyzer=None)\n",
        "print(f'There are {len(posting_list)} postings.')\n",
        "\n",
        "posting = posting_list[100]\n",
        "print(f'Each posting contains a document ID ({posting.docid}), term frequency ({posting.tf}), and position list ({posting.positions}).')\n",
        "\n",
        "print(f'searcher has a method for turning internal integer IDs like {posting.docid} into external IDs like {searcher.doc(posting.docid).docid()}.')"
      ],
      "metadata": {
        "colab": {
          "base_uri": "https://localhost:8080/"
        },
        "id": "rWdztSSQAaVs",
        "outputId": "002afc4d-7c0c-40b9-fb0d-019f708095b4"
      },
      "execution_count": 30,
      "outputs": [
        {
          "output_type": "stream",
          "name": "stdout",
          "text": [
            "There are 16429 postings.\n",
            "Each posting contains a document ID (3405), term frequency (1), and position list ([461]).\n",
            "searcher has a method for turning internal integer IDs like 3405 into external IDs like LA031889-0009.\n"
          ]
        }
      ]
    },
    {
      "cell_type": "markdown",
      "source": [
        "If, instead of mapping terms to documents, you want to use a document name to get term information, see above for the `get_document_vector` method.\n",
        "\n",
        "Finally, it will be useful to have some information about each document in the collection, which is saved in a file in the GitHub repository."
      ],
      "metadata": {
        "id": "pZ_vT4DeMbB4"
      }
    },
    {
      "cell_type": "code",
      "source": [
        "import json\n",
        "docfile = urlopen('https://github.com/dasmiq/cs6200-retrieval-models/raw/refs/heads/main/doclen.jsonl')\n",
        "docinfo = [json.loads(line) for line in docfile]"
      ],
      "metadata": {
        "id": "SRBbXWVVLsbg"
      },
      "execution_count": 31,
      "outputs": []
    },
    {
      "cell_type": "markdown",
      "source": [
        "Each record in that file contains the document `id`, its interned numeric `iid`, and the number of tokens `n`."
      ],
      "metadata": {
        "id": "vckk4zn5Mh6Q"
      }
    },
    {
      "cell_type": "code",
      "source": [
        "docinfo[0]"
      ],
      "metadata": {
        "colab": {
          "base_uri": "https://localhost:8080/"
        },
        "id": "25IhYzlkMX2D",
        "outputId": "4132d715-98a2-4948-c63e-dc06c1fb7c82"
      },
      "execution_count": 32,
      "outputs": [
        {
          "output_type": "execute_result",
          "data": {
            "text/plain": [
              "{'id': 'LA052189-0001', 'iid': 0, 'n': 6}"
            ]
          },
          "metadata": {},
          "execution_count": 32
        }
      ]
    },
    {
      "cell_type": "markdown",
      "source": [
        "Use Dirichlet smoothing with $\\mu$ equal to the mean document length in the collection."
      ],
      "metadata": {
        "id": "F9KdZ6LLMiBS"
      }
    },
    {
      "cell_type": "code",
      "source": [
        " # TODO [2 points]: Compute the mean document length from collection statistics.\n",
        "total_tokens = sum(doc['n'] for doc in docinfo)\n",
        "total_docs = len(docinfo)\n",
        "mu = total_tokens / total_docs\n",
        "mu"
      ],
      "metadata": {
        "id": "0Xv7_QT6ZvlO",
        "colab": {
          "base_uri": "https://localhost:8080/"
        },
        "outputId": "ce0c5147-62bf-4ef4-98c7-efd848f279d3"
      },
      "execution_count": 34,
      "outputs": [
        {
          "output_type": "execute_result",
          "data": {
            "text/plain": [
              "330.5510520235593"
            ]
          },
          "metadata": {},
          "execution_count": 34
        }
      ]
    },
    {
      "cell_type": "markdown",
      "source": [
        "Now you should have all the information you need to implement a query likelihood retrieval model."
      ],
      "metadata": {
        "id": "YbukLAzSZ3U1"
      }
    },
    {
      "cell_type": "code",
      "source": [
        "## TODO [50 points]: Implement a query likelihood model with Dirichlet smoothing.\n",
        "## For a given query, index reader, and constant k, return the k documents with the highest query likelihoods.\n",
        "## Think about what data structure would let you keep the top k.\n",
        "import heapq\n",
        "import math\n",
        "from collections import defaultdict\n",
        "\n",
        "def query_likelihood_retrieval(query, reader, searcher, k, mu, docinfo):\n",
        "    query_terms = reader.analyze(query)\n",
        "    print(f\"Query terms after analysis: {query_terms}\")\n",
        "    total_tokens = sum(doc['n'] for doc in docinfo)\n",
        "\n",
        "    docid_to_length = {doc['id']: doc['n'] for doc in docinfo}\n",
        "    doc_scores = defaultdict(float)\n",
        "\n",
        "    internal_to_external = {}\n",
        "    doc_lengths = {}\n",
        "\n",
        "    for term in query_terms:\n",
        "        try:\n",
        "            df, cf = reader.get_term_counts(term, analyzer=None)\n",
        "\n",
        "            if df == 0:\n",
        "                print(f\"Term '{term}' not found in collection\")\n",
        "                continue\n",
        "\n",
        "            print(f\"Term '{term}': df={df}, cf={cf}\")\n",
        "\n",
        "            p_t_C = cf / total_tokens\n",
        "\n",
        "            posting_list = reader.get_postings_list(term, analyzer=None)\n",
        "\n",
        "            for posting in posting_list:\n",
        "                internal_docid = posting.docid\n",
        "                tf = posting.tf\n",
        "\n",
        "                try:\n",
        "                    if internal_docid in internal_to_external:\n",
        "                        external_docid = internal_to_external[internal_docid]\n",
        "                    else:\n",
        "                        external_docid = searcher.doc(internal_docid).docid()\n",
        "                        internal_to_external[internal_docid] = external_docid\n",
        "\n",
        "                    if external_docid in doc_lengths:\n",
        "                        doc_length = doc_lengths[external_docid]\n",
        "                    else:\n",
        "                        doc_length = docid_to_length.get(external_docid, 0)\n",
        "                        doc_lengths[external_docid] = doc_length\n",
        "\n",
        "                    if doc_length > 0:\n",
        "                        p_t_d = (tf + mu * p_t_C) / (doc_length + mu)\n",
        "                        log_p_t_d = math.log(p_t_d)\n",
        "\n",
        "                        doc_scores[external_docid] += log_p_t_d\n",
        "                except:\n",
        "                    continue\n",
        "        except:\n",
        "            print(f\"Error processing term '{term}'\")\n",
        "            continue\n",
        "\n",
        "    top_k_docs = heapq.nlargest(k, doc_scores.items(), key=lambda x: x[1])\n",
        "\n",
        "    print(f\"Retrieved {len(top_k_docs)} documents\")\n",
        "    if len(top_k_docs) > 0:\n",
        "        print(f\"Top document: {top_k_docs[0][0]} with score {top_k_docs[0][1]:.4f}\")\n",
        "\n",
        "    return top_k_docs\n",
        "\n",
        "hits = query_likelihood_retrieval(\"international organized crime\", reader, searcher, 1000, mu, docinfo)"
      ],
      "metadata": {
        "id": "PKAzgxzwNQ8v",
        "colab": {
          "base_uri": "https://localhost:8080/"
        },
        "outputId": "37eb5993-f096-49ef-8b41-36a186812a89"
      },
      "execution_count": 35,
      "outputs": [
        {
          "output_type": "stream",
          "name": "stdout",
          "text": [
            "Query terms after analysis: ['intern', 'organ', 'crime']\n",
            "Term 'intern': df=114475, cf=197933\n",
            "Term 'organ': df=51239, cf=115735\n",
            "Term 'crime': df=14955, cf=30996\n",
            "Retrieved 1000 documents\n",
            "Top document: LA100790-0072 with score -3.1297\n"
          ]
        }
      ]
    },
    {
      "cell_type": "markdown",
      "source": [
        "Now you can reuse some of your evaluation code for mean average precision from above."
      ],
      "metadata": {
        "id": "xKVt8NkKQlqV"
      }
    },
    {
      "cell_type": "code",
      "source": [
        "## TODO [13 points]: Compute the MAP@1000 of your query likelihood model on the test_topics set."
      ],
      "metadata": {
        "id": "67coeQ03NcN6"
      },
      "execution_count": null,
      "outputs": []
    },
    {
      "cell_type": "code",
      "source": [
        "def calculate_map_at_1000(retrieval_function, reader, searcher, test_topics, qrels, mu, docinfo):\n",
        "    qrels_by_topic = {}\n",
        "    for item in qrels:\n",
        "        topic_id = item[0]\n",
        "        if topic_id not in qrels_by_topic:\n",
        "            qrels_by_topic[topic_id] = []\n",
        "        qrels_by_topic[topic_id].append(item)\n",
        "\n",
        "    ap_values = []\n",
        "    processed_topics = 0\n",
        "\n",
        "    for topic_id, topic_data in test_topics.items():\n",
        "        processed_topics += 1\n",
        "        print(f\"Processing topic {topic_id}: {topic_data['title']}\")\n",
        "\n",
        "        if topic_id not in qrels_by_topic:\n",
        "            print(f\"No relevance judgments for topic {topic_id}\")\n",
        "            continue\n",
        "\n",
        "        query = topic_data['title']\n",
        "\n",
        "        relevant_docs = set([item[2] for item in qrels_by_topic[topic_id] if item[3] == 1])\n",
        "\n",
        "        if not relevant_docs:\n",
        "            print(f\"No relevant documents for topic {topic_id}\")\n",
        "            continue\n",
        "\n",
        "        print(f\"Found {len(relevant_docs)} relevant documents for topic {topic_id}\")\n",
        "\n",
        "        hits = retrieval_function(query, reader, searcher, 1000, mu, docinfo)\n",
        "\n",
        "        seen_relevant = 0\n",
        "        precision_sum = 0.0\n",
        "\n",
        "        for i, (docid, _) in enumerate(hits):\n",
        "            if docid in relevant_docs:\n",
        "                seen_relevant += 1\n",
        "                precision_at_k = seen_relevant / (i + 1)\n",
        "                precision_sum += precision_at_k\n",
        "\n",
        "        ap = precision_sum / len(relevant_docs)\n",
        "        ap_values.append(ap)\n",
        "\n",
        "        print(f\"AP@1000 for topic {topic_id}: {ap:.4f} ({seen_relevant}/{len(relevant_docs)} relevant docs found)\")\n",
        "\n",
        "    map_at_1000 = sum(ap_values) / len(ap_values) if ap_values else 0.0\n",
        "\n",
        "    print(f\"\\nProcessed {processed_topics} topics, calculated AP for {len(ap_values)} topics\")\n",
        "    print(f\"MAP@1000 for Query Likelihood model: {map_at_1000:.4f}\")\n",
        "\n",
        "    return map_at_1000\n",
        "\n",
        "def evaluate_query_likelihood_model(reader, searcher, test_topics, qrels, docinfo):\n",
        "    total_tokens = sum(doc['n'] for doc in docinfo)\n",
        "    total_docs = len(docinfo)\n",
        "    mu = total_tokens / total_docs\n",
        "    print(f\"Dirichlet smoothing parameter μ (mean document length): {mu:.2f}\")\n",
        "\n",
        "    map_score = calculate_map_at_1000(\n",
        "        query_likelihood_retrieval,\n",
        "        reader,\n",
        "        searcher,\n",
        "        test_topics,\n",
        "        qrels,\n",
        "        mu,\n",
        "        docinfo\n",
        "    )\n",
        "\n",
        "    return map_score\n",
        "\n",
        "map_score = evaluate_query_likelihood_model(reader, searcher, test_topics, qrels, docinfo)"
      ],
      "metadata": {
        "collapsed": true,
        "colab": {
          "base_uri": "https://localhost:8080/"
        },
        "id": "2EVctdHi50Bp",
        "outputId": "e3fcd6a0-3874-4f7b-919b-51a0c728cdc8"
      },
      "execution_count": 37,
      "outputs": [
        {
          "output_type": "stream",
          "name": "stdout",
          "text": [
            "Dirichlet smoothing parameter μ (mean document length): 330.55\n",
            "Processing topic 658: teenage pregnancy\n",
            "Found 37 relevant documents for topic 658\n",
            "Query terms after analysis: ['teenag', 'pregnanc']\n",
            "Term 'teenag': df=1049, cf=1287\n",
            "Term 'pregnanc': df=1096, cf=2008\n",
            "Retrieved 1000 documents\n",
            "Top document: FBIS3-59301 with score -3.6638\n",
            "AP@1000 for topic 658: 0.0127 (18/37 relevant docs found)\n",
            "Processing topic 417: creativity\n",
            "Found 75 relevant documents for topic 417\n",
            "Query terms after analysis: ['creativ']\n",
            "Term 'creativ': df=4955, cf=7073\n",
            "Retrieved 1000 documents\n",
            "Top document: LA092989-0098 with score -3.5800\n",
            "AP@1000 for topic 417: 0.2863 (58/75 relevant docs found)\n",
            "Processing topic 659: cruise health safety\n",
            "Found 13 relevant documents for topic 659\n",
            "Query terms after analysis: ['cruis', 'health', 'safeti']\n",
            "Term 'cruis': df=2518, cf=5020\n",
            "Term 'health': df=31528, cf=74088\n",
            "Term 'safeti': df=20221, cf=48043\n",
            "Retrieved 1000 documents\n",
            "Top document: FT922-14532 with score -2.7562\n",
            "AP@1000 for topic 659: 0.0000 (0/13 relevant docs found)\n",
            "Processing topic 418: quilts, income\n",
            "Found 116 relevant documents for topic 418\n",
            "Query terms after analysis: ['quilt', 'incom']\n",
            "Term 'quilt': df=291, cf=538\n",
            "Term 'incom': df=33567, cf=77873\n",
            "Retrieved 1000 documents\n",
            "Top document: FR940325-0-00017 with score -1.5703\n",
            "AP@1000 for topic 418: 0.0049 (4/116 relevant docs found)\n",
            "Processing topic 419: recycle, automobile tires\n",
            "Found 16 relevant documents for topic 419\n",
            "Query terms after analysis: ['recycl', 'automobil', 'tire']\n",
            "Term 'recycl': df=2957, cf=9143\n",
            "Term 'automobil': df=4491, cf=7157\n",
            "Term 'tire': df=5337, cf=7169\n",
            "Retrieved 1000 documents\n",
            "Top document: LA031289-0081 with score -3.2789\n",
            "AP@1000 for topic 419: 0.0009 (4/16 relevant docs found)\n",
            "Processing topic 660: whale watching California\n",
            "Found 19 relevant documents for topic 660\n",
            "Query terms after analysis: ['whale', 'watch', 'california']\n",
            "Term 'whale': df=807, cf=3401\n",
            "Term 'watch': df=20086, cf=27072\n",
            "Term 'california': df=29166, cf=61774\n",
            "Retrieved 1000 documents\n",
            "Top document: FBIS4-67482 with score -3.0243\n",
            "AP@1000 for topic 660: 0.0000 (0/19 relevant docs found)\n",
            "Processing topic 661: melanoma treatment causes\n",
            "Found 26 relevant documents for topic 661\n",
            "Query terms after analysis: ['melanoma', 'treatment', 'caus']\n",
            "Term 'melanoma': df=50, cf=102\n",
            "Term 'treatment': df=15501, cf=28587\n",
            "Term 'caus': df=50646, cf=71717\n",
            "Retrieved 1000 documents\n",
            "Top document: FR941017-1-00040 with score -3.1685\n",
            "AP@1000 for topic 661: 0.0001 (1/26 relevant docs found)\n",
            "Processing topic 420: carbon monoxide poisoning\n",
            "Found 33 relevant documents for topic 420\n",
            "Query terms after analysis: ['carbon', 'monoxid', 'poison']\n",
            "Term 'carbon': df=3257, cf=7164\n",
            "Term 'monoxid': df=680, cf=1196\n",
            "Term 'poison': df=2785, cf=4451\n",
            "Retrieved 1000 documents\n",
            "Top document: LA032389-0050 with score -3.7015\n",
            "AP@1000 for topic 420: 0.0000 (0/33 relevant docs found)\n",
            "Processing topic 662: telemarketer protection\n",
            "Found 31 relevant documents for topic 662\n",
            "Query terms after analysis: ['telemarket', 'protect']\n",
            "Term 'telemarket': df=106, cf=183\n",
            "Term 'protect': df=47545, cf=88611\n",
            "Retrieved 1000 documents\n",
            "Top document: FR941012-0-00095 with score -3.2727\n",
            "AP@1000 for topic 662: 0.0000 (0/31 relevant docs found)\n",
            "Processing topic 421: industrial waste disposal\n",
            "Found 83 relevant documents for topic 421\n",
            "Query terms after analysis: ['industri', 'wast', 'dispos']\n",
            "Term 'industri': df=93917, cf=227965\n",
            "Term 'wast': df=12797, cf=37341\n",
            "Term 'dispos': df=13476, cf=23937\n",
            "Retrieved 1000 documents\n",
            "Top document: FR941206-0-00193 with score -2.7157\n",
            "AP@1000 for topic 421: 0.0002 (2/83 relevant docs found)\n",
            "Processing topic 663: Agent Orange exposure\n",
            "Found 7 relevant documents for topic 663\n",
            "Query terms after analysis: ['agent', 'orang', 'exposur']\n",
            "Term 'agent': df=14804, cf=30194\n",
            "Term 'orang': df=25635, cf=57570\n",
            "Term 'exposur': df=7040, cf=14533\n",
            "Retrieved 1000 documents\n",
            "Top document: LA110490-0246 with score -2.7619\n",
            "AP@1000 for topic 663: 0.0005 (2/7 relevant docs found)\n",
            "Processing topic 301: International Organized Crime\n",
            "Found 448 relevant documents for topic 301\n",
            "Query terms after analysis: ['intern', 'organ', 'crime']\n",
            "Term 'intern': df=114475, cf=197933\n",
            "Term 'organ': df=51239, cf=115735\n",
            "Term 'crime': df=14955, cf=30996\n",
            "Retrieved 1000 documents\n",
            "Top document: LA100790-0072 with score -3.1297\n",
            "AP@1000 for topic 301: 0.0000 (1/448 relevant docs found)\n",
            "Processing topic 422: art, stolen, forged\n",
            "Found 152 relevant documents for topic 422\n",
            "Query terms after analysis: ['art', 'stolen', 'forg']\n",
            "Term 'art': df=20587, cf=51495\n",
            "Term 'stolen': df=2991, cf=4506\n",
            "Term 'forg': df=4255, cf=5109\n",
            "Retrieved 1000 documents\n",
            "Top document: FT921-6704 with score -2.9768\n",
            "AP@1000 for topic 422: 0.0002 (6/152 relevant docs found)\n",
            "Processing topic 664: American Indian Museum\n",
            "Found 2 relevant documents for topic 664\n",
            "Query terms after analysis: ['american', 'indian', 'museum']\n",
            "Term 'american': df=53146, cf=104664\n",
            "Term 'indian': df=9396, cf=25317\n",
            "Term 'museum': df=5000, cf=14123\n",
            "Retrieved 1000 documents\n",
            "Top document: FR941013-1-00049 with score -2.9866\n",
            "AP@1000 for topic 664: 0.0000 (0/2 relevant docs found)\n",
            "Processing topic 302: Poliomyelitis and Post-Polio\n",
            "Found 65 relevant documents for topic 302\n",
            "Query terms after analysis: ['poliomyel', 'post', 'polio']\n",
            "Term 'poliomyel': df=24, cf=30\n",
            "Term 'post': df=36608, cf=54663\n",
            "Term 'polio': df=152, cf=365\n",
            "Retrieved 1000 documents\n",
            "Top document: FR941102-2-00060 with score -3.4650\n",
            "AP@1000 for topic 302: 0.0112 (11/65 relevant docs found)\n",
            "Processing topic 423: Milosevic, Mirjana Markovic\n",
            "Found 21 relevant documents for topic 423\n",
            "Query terms after analysis: ['milosev', 'mirjana', 'markov']\n",
            "Term 'milosev': df=1096, cf=2699\n",
            "Term 'mirjana': df=38, cf=45\n",
            "Term 'markov': df=130, cf=265\n",
            "Retrieved 1000 documents\n",
            "Top document: FT924-11963 with score -3.8716\n",
            "AP@1000 for topic 423: 0.0041 (4/21 relevant docs found)\n",
            "Processing topic 665: poverty Africa sub-Sahara\n",
            "Found 18 relevant documents for topic 665\n",
            "Query terms after analysis: ['poverti', 'africa', 'sub', 'sahara']\n",
            "Term 'poverti': df=4744, cf=7838\n",
            "Term 'africa': df=11308, cf=24443\n",
            "Term 'sub': df=5399, cf=11462\n",
            "Term 'sahara': df=237, cf=399\n",
            "Retrieved 1000 documents\n",
            "Top document: FBIS4-20614 with score -3.0608\n",
            "AP@1000 for topic 665: 0.0000 (0/18 relevant docs found)\n",
            "Processing topic 303: Hubble Telescope Achievements\n",
            "Found 10 relevant documents for topic 303\n",
            "Query terms after analysis: ['hubbl', 'telescop', 'achiev']\n",
            "Term 'hubbl': df=133, cf=283\n",
            "Term 'telescop': df=424, cf=1132\n",
            "Term 'achiev': df=43069, cf=64517\n",
            "Retrieved 1000 documents\n",
            "Top document: FR940920-1-00091 with score -4.0328\n",
            "AP@1000 for topic 303: 0.0000 (0/10 relevant docs found)\n",
            "Processing topic 424: suicides\n",
            "Found 171 relevant documents for topic 424\n",
            "Query terms after analysis: ['suicid']\n",
            "Term 'suicid': df=2579, cf=3763\n",
            "Retrieved 1000 documents\n",
            "Top document: LA072689-0058 with score -3.7995\n",
            "AP@1000 for topic 424: 0.1214 (115/171 relevant docs found)\n",
            "Processing topic 666: Thatcher resignation impact\n",
            "Found 3 relevant documents for topic 666\n",
            "Query terms after analysis: ['thatcher', 'resign', 'impact']\n",
            "Term 'thatcher': df=2989, cf=5848\n",
            "Term 'resign': df=15434, cf=25042\n",
            "Term 'impact': df=29034, cf=49404\n",
            "Retrieved 1000 documents\n",
            "Top document: FR941206-1-00060 with score -3.3020\n",
            "AP@1000 for topic 666: 0.0000 (0/3 relevant docs found)\n",
            "Processing topic 304: Endangered Species (Mammals)\n",
            "Found 196 relevant documents for topic 304\n",
            "Query terms after analysis: ['endang', 'speci', 'mammal']\n",
            "Term 'endang': df=4634, cf=8181\n",
            "Term 'speci': df=4779, cf=16866\n",
            "Term 'mammal': df=668, cf=1804\n",
            "Retrieved 1000 documents\n",
            "Top document: FR940317-1-00211 with score -3.2048\n",
            "AP@1000 for topic 304: 0.0002 (7/196 relevant docs found)\n",
            "Processing topic 425: counterfeiting money\n",
            "Found 162 relevant documents for topic 425\n",
            "Query terms after analysis: ['counterfeit', 'monei']\n",
            "Term 'counterfeit': df=598, cf=1296\n",
            "Term 'monei': df=55478, cf=103212\n",
            "Retrieved 1000 documents\n",
            "Top document: FBIS4-52929 with score -3.2803\n",
            "AP@1000 for topic 425: 0.0002 (6/162 relevant docs found)\n",
            "Processing topic 667: unmarried-partner households\n",
            "Found 41 relevant documents for topic 667\n",
            "Query terms after analysis: ['unmarri', 'partner', 'household']\n",
            "Term 'unmarri': df=324, cf=459\n",
            "Term 'partner': df=24364, cf=37275\n",
            "Term 'household': df=8258, cf=15001\n",
            "Retrieved 1000 documents\n",
            "Top document: FR940414-2-00114 with score -3.0214\n",
            "AP@1000 for topic 667: 0.0000 (1/41 relevant docs found)\n",
            "Processing topic 305: Most Dangerous Vehicles\n",
            "Found 35 relevant documents for topic 305\n",
            "Query terms after analysis: ['most', 'danger', 'vehicl']\n",
            "Term 'most': df=131832, cf=230885\n",
            "Term 'danger': df=21702, cf=29109\n",
            "Term 'vehicl': df=18769, cf=48861\n",
            "Retrieved 1000 documents\n",
            "Top document: FR940406-0-00146 with score -2.9546\n",
            "AP@1000 for topic 305: 0.0000 (0/35 relevant docs found)\n",
            "Processing topic 426: law enforcement, dogs\n",
            "Found 202 relevant documents for topic 426\n",
            "Query terms after analysis: ['law', 'enforc', 'dog']\n",
            "Term 'law': df=58834, cf=132887\n",
            "Term 'enforc': df=16528, cf=29358\n",
            "Term 'dog': df=5575, cf=9925\n",
            "Retrieved 1000 documents\n",
            "Top document: FBIS3-27216 with score -3.1234\n",
            "AP@1000 for topic 426: 0.0008 (11/202 relevant docs found)\n",
            "Processing topic 668: poverty, disease\n",
            "Found 28 relevant documents for topic 668\n",
            "Query terms after analysis: ['poverti', 'diseas']\n",
            "Term 'poverti': df=4744, cf=7838\n",
            "Term 'diseas': df=7394, cf=17413\n",
            "Retrieved 1000 documents\n",
            "Top document: FR940525-1-00082 with score -3.3760\n",
            "AP@1000 for topic 668: 0.0001 (1/28 relevant docs found)\n",
            "Processing topic 306: African Civilian Deaths\n",
            "Found 332 relevant documents for topic 306\n",
            "Query terms after analysis: ['african', 'civilian', 'death']\n",
            "Term 'african': df=10399, cf=20730\n",
            "Term 'civilian': df=9591, cf=14926\n",
            "Term 'death': df=21200, cf=35171\n",
            "Retrieved 1000 documents\n",
            "Top document: FBIS4-605 with score -3.3464\n",
            "AP@1000 for topic 306: 0.0002 (8/332 relevant docs found)\n",
            "Processing topic 427: UV damage, eyes\n",
            "Found 50 relevant documents for topic 427\n",
            "Query terms after analysis: ['uv', 'damag', 'ey']\n",
            "Term 'uv': df=109, cf=364\n",
            "Term 'damag': df=23147, cf=36500\n",
            "Term 'ey': df=16156, cf=20553\n",
            "Retrieved 1000 documents\n",
            "Top document: FR940613-2-00004 with score -3.3668\n",
            "AP@1000 for topic 427: 0.0003 (3/50 relevant docs found)\n",
            "Processing topic 669: Islamic Revolution\n",
            "Found 20 relevant documents for topic 669\n",
            "Query terms after analysis: ['islam', 'revolut']\n",
            "Term 'islam': df=7555, cf=21341\n",
            "Term 'revolut': df=7302, cf=13491\n",
            "Retrieved 1000 documents\n",
            "Top document: FT944-2873 with score -3.2506\n",
            "AP@1000 for topic 669: 0.0009 (1/20 relevant docs found)\n",
            "Processing topic 307: New Hydroelectric Projects\n",
            "Found 210 relevant documents for topic 307\n",
            "Query terms after analysis: ['new', 'hydroelectr', 'project']\n",
            "Term 'new': df=260357, cf=587139\n",
            "Term 'hydroelectr': df=891, cf=1409\n",
            "Term 'project': df=50818, cf=135413\n",
            "Retrieved 1000 documents\n",
            "Top document: FR940713-2-00004 with score -2.3704\n",
            "AP@1000 for topic 307: 0.0000 (1/210 relevant docs found)\n",
            "Processing topic 428: declining birth rates\n",
            "Found 118 relevant documents for topic 428\n",
            "Query terms after analysis: ['declin', 'birth', 'rate']\n",
            "Term 'declin': df=35970, cf=53119\n",
            "Term 'birth': df=4497, cf=7171\n",
            "Term 'rate': df=71801, cf=218471\n",
            "Retrieved 1000 documents\n",
            "Top document: FR940202-0-00079 with score -2.5893\n",
            "AP@1000 for topic 428: 0.0000 (0/118 relevant docs found)\n",
            "Processing topic 308: Implant Dentistry\n",
            "Found 4 relevant documents for topic 308\n",
            "Query terms after analysis: ['implant', 'dentistri']\n",
            "Term 'implant': df=579, cf=1608\n",
            "Term 'dentistri': df=132, cf=242\n",
            "Retrieved 707 documents\n",
            "Top document: LA121090-0057 with score -3.5289\n",
            "AP@1000 for topic 308: 0.0542 (4/4 relevant docs found)\n",
            "Processing topic 429: Legionnaires' disease\n",
            "Found 11 relevant documents for topic 429\n",
            "Query terms after analysis: ['legionnair', 'diseas']\n",
            "Term 'legionnair': df=97, cf=197\n",
            "Term 'diseas': df=7394, cf=17413\n",
            "Retrieved 1000 documents\n",
            "Top document: FR940525-1-00082 with score -3.3760\n",
            "AP@1000 for topic 429: 0.0000 (0/11 relevant docs found)\n",
            "Processing topic 309: Rap and Crime\n",
            "Found 3 relevant documents for topic 309\n",
            "Query terms after analysis: ['rap', 'crime']\n",
            "Term 'rap': df=1280, cf=2383\n",
            "Term 'crime': df=14955, cf=30996\n",
            "Retrieved 1000 documents\n",
            "Top document: LA022390-0095 with score -3.1782\n",
            "AP@1000 for topic 309: 0.0000 (0/3 relevant docs found)\n",
            "Processing topic 670: U.S. elections apathy\n",
            "Found 23 relevant documents for topic 670\n",
            "Query terms after analysis: ['u.', 'elect', 'apathi']\n",
            "Term 'u.': df=3842, cf=6583\n",
            "Term 'elect': df=49644, cf=130567\n",
            "Term 'apathi': df=457, cf=499\n",
            "Retrieved 1000 documents\n",
            "Top document: FBIS4-47225 with score -2.7214\n",
            "AP@1000 for topic 670: 0.0000 (0/23 relevant docs found)\n",
            "Processing topic 671: Salvation Army benefits\n",
            "Found 65 relevant documents for topic 671\n",
            "Query terms after analysis: ['salvat', 'armi', 'benefit']\n",
            "Term 'salvat': df=1754, cf=2390\n",
            "Term 'armi': df=23308, cf=56152\n",
            "Term 'benefit': df=40952, cf=66233\n",
            "Retrieved 1000 documents\n",
            "Top document: FBIS3-46235 with score -2.9984\n",
            "AP@1000 for topic 671: 0.0000 (0/65 relevant docs found)\n",
            "Processing topic 430: killer bee attacks\n",
            "Found 6 relevant documents for topic 430\n",
            "Query terms after analysis: ['killer', 'bee', 'attack']\n",
            "Term 'killer': df=2324, cf=3257\n",
            "Term 'bee': df=626, cf=1431\n",
            "Term 'attack': df=29415, cf=49330\n",
            "Retrieved 1000 documents\n",
            "Top document: FBIS4-57923 with score -3.7703\n",
            "AP@1000 for topic 430: 0.0000 (0/6 relevant docs found)\n",
            "Processing topic 672: NRA membership profile\n",
            "No relevance judgments for topic 672\n",
            "Processing topic 310: Radio Waves and Brain Cancer\n",
            "Found 13 relevant documents for topic 310\n",
            "Query terms after analysis: ['radio', 'wave', 'brain', 'cancer']\n",
            "Term 'radio': df=17586, cf=33991\n",
            "Term 'wave': df=9805, cf=13348\n",
            "Term 'brain': df=3052, cf=4800\n",
            "Term 'cancer': df=4075, cf=10053\n",
            "Retrieved 1000 documents\n",
            "Top document: LA021989-0064 with score -3.1976\n",
            "AP@1000 for topic 310: 0.0000 (0/13 relevant docs found)\n",
            "Processing topic 431: robotic technology\n",
            "Found 130 relevant documents for topic 431\n",
            "Query terms after analysis: ['robot', 'technolog']\n",
            "Term 'robot': df=756, cf=1986\n",
            "Term 'technolog': df=31362, cf=79780\n",
            "Retrieved 1000 documents\n",
            "Top document: FBIS3-59746 with score -3.0161\n",
            "AP@1000 for topic 431: 0.0041 (13/130 relevant docs found)\n",
            "Processing topic 673: Soviet withdrawal Afghanistan\n",
            "Found 19 relevant documents for topic 673\n",
            "Query terms after analysis: ['soviet', 'withdraw', 'afghanistan']\n",
            "Term 'soviet': df=18784, cf=54879\n",
            "Term 'withdraw': df=15932, cf=25946\n",
            "Term 'afghanistan': df=1906, cf=4076\n",
            "Retrieved 1000 documents\n",
            "Top document: FBIS3-42600 with score -3.1722\n",
            "AP@1000 for topic 673: 0.0000 (0/19 relevant docs found)\n",
            "Processing topic 311: Industrial Espionage\n",
            "Found 182 relevant documents for topic 311\n",
            "Query terms after analysis: ['industri', 'espionag']\n",
            "Term 'industri': df=93917, cf=227965\n",
            "Term 'espionag': df=744, cf=1221\n",
            "Retrieved 1000 documents\n",
            "Top document: FBIS3-21356 with score -2.8670\n",
            "AP@1000 for topic 311: 0.0000 (0/182 relevant docs found)\n",
            "Processing topic 432: profiling, motorists, police\n",
            "Found 28 relevant documents for topic 432\n",
            "Query terms after analysis: ['profil', 'motorist', 'polic']\n",
            "Term 'profil': df=6632, cf=8066\n",
            "Term 'motorist': df=1821, cf=2827\n",
            "Term 'polic': df=30621, cf=82888\n",
            "Retrieved 1000 documents\n",
            "Top document: FR940722-2-00131 with score -3.1197\n",
            "AP@1000 for topic 432: 0.0076 (10/28 relevant docs found)\n",
            "Processing topic 674: Greenpeace prosecuted\n",
            "Found 20 relevant documents for topic 674\n",
            "Query terms after analysis: ['greenpeac', 'prosecut']\n",
            "Term 'greenpeac': df=598, cf=1343\n",
            "Term 'prosecut': df=5294, cf=8724\n",
            "Retrieved 1000 documents\n",
            "Top document: FT934-1971 with score -3.8125\n",
            "AP@1000 for topic 674: 0.1239 (14/20 relevant docs found)\n",
            "Processing topic 312: Hydroponics\n",
            "Found 11 relevant documents for topic 312\n",
            "Query terms after analysis: ['hydropon']\n",
            "Term 'hydropon': df=21, cf=26\n",
            "Retrieved 21 documents\n",
            "Top document: LA040289-0050 with score -5.1923\n",
            "AP@1000 for topic 312: 0.7514 (11/11 relevant docs found)\n",
            "Processing topic 433: Greek, philosophy, stoicism\n",
            "Found 13 relevant documents for topic 433\n",
            "Query terms after analysis: ['greek', 'philosophi', 'stoicism']\n",
            "Term 'greek': df=4469, cf=11673\n",
            "Term 'philosophi': df=3563, cf=4341\n",
            "Term 'stoicism': df=58, cf=62\n",
            "Retrieved 1000 documents\n",
            "Top document: FBIS4-8584 with score -3.3645\n",
            "AP@1000 for topic 433: 0.0000 (0/13 relevant docs found)\n",
            "Processing topic 675: Olympics training swimming\n",
            "Found 25 relevant documents for topic 675\n",
            "Query terms after analysis: ['olymp', 'train', 'swim']\n",
            "Term 'olymp': df=3927, cf=8820\n",
            "Term 'train': df=31228, cf=71936\n",
            "Term 'swim': df=2989, cf=5117\n",
            "Retrieved 1000 documents\n",
            "Top document: FR940916-1-00136 with score -2.6284\n",
            "AP@1000 for topic 675: 0.0000 (0/25 relevant docs found)\n",
            "Processing topic 313: Magnetic Levitation-Maglev\n",
            "Found 93 relevant documents for topic 313\n",
            "Query terms after analysis: ['magnet', 'levit', 'maglev']\n",
            "Term 'magnet': df=1993, cf=3897\n",
            "Term 'levit': df=161, cf=242\n",
            "Term 'maglev': df=30, cf=89\n",
            "Retrieved 1000 documents\n",
            "Top document: LA052190-0043 with score -3.4049\n",
            "AP@1000 for topic 313: 0.0011 (10/93 relevant docs found)\n",
            "Processing topic 434: Estonia, economy\n",
            "Found 347 relevant documents for topic 434\n",
            "Query terms after analysis: ['estonia', 'economi']\n",
            "Term 'estonia': df=2002, cf=5835\n",
            "Term 'economi': df=46847, cf=99386\n",
            "Retrieved 1000 documents\n",
            "Top document: FBIS3-59354 with score -3.2734\n",
            "AP@1000 for topic 434: 0.0173 (62/347 relevant docs found)\n",
            "Processing topic 676: poppy cultivation\n",
            "Found 26 relevant documents for topic 676\n",
            "Query terms after analysis: ['poppi', 'cultiv']\n",
            "Term 'poppi': df=474, cf=1098\n",
            "Term 'cultiv': df=2833, cf=4176\n",
            "Retrieved 1000 documents\n",
            "Top document: FBIS4-45380 with score -3.7379\n",
            "AP@1000 for topic 676: 0.0380 (12/26 relevant docs found)\n",
            "Processing topic 314: Marine Vegetation\n",
            "Found 44 relevant documents for topic 314\n",
            "Query terms after analysis: ['marin', 'veget']\n",
            "Term 'marin': df=7880, cf=17261\n",
            "Term 'veget': df=4895, cf=8791\n",
            "Retrieved 1000 documents\n",
            "Top document: FBIS4-49351 with score -3.4154\n",
            "AP@1000 for topic 314: 0.0035 (5/44 relevant docs found)\n",
            "Processing topic 435: curbing population growth\n",
            "Found 117 relevant documents for topic 435\n",
            "Query terms after analysis: ['curb', 'popul', 'growth']\n",
            "Term 'curb': df=6573, cf=8062\n",
            "Term 'popul': df=23949, cf=44294\n",
            "Term 'growth': df=40965, cf=85405\n",
            "Retrieved 1000 documents\n",
            "Top document: LA052089-0101 with score -2.7973\n",
            "AP@1000 for topic 435: 0.0000 (1/117 relevant docs found)\n",
            "Processing topic 677: Leaning Tower of Pisa\n",
            "Found 8 relevant documents for topic 677\n",
            "Query terms after analysis: ['lean', 'tower', 'pisa']\n",
            "Term 'lean': df=3755, cf=4560\n",
            "Term 'tower': df=4819, cf=8675\n",
            "Term 'pisa': df=76, cf=109\n",
            "Retrieved 1000 documents\n",
            "Top document: LA041990-0070 with score -3.4146\n",
            "AP@1000 for topic 677: 0.0000 (0/8 relevant docs found)\n",
            "Processing topic 315: Unexplained Highway Accidents\n",
            "Found 67 relevant documents for topic 315\n",
            "Query terms after analysis: ['unexplain', 'highwai', 'accid']\n",
            "Term 'unexplain': df=307, cf=334\n",
            "Term 'highwai': df=8591, cf=16463\n",
            "Term 'accid': df=9499, cf=22267\n",
            "Retrieved 1000 documents\n",
            "Top document: FR941213-1-00034 with score -3.5450\n",
            "AP@1000 for topic 315: 0.0001 (3/67 relevant docs found)\n",
            "Processing topic 436: railway accidents\n",
            "Found 180 relevant documents for topic 436\n",
            "Query terms after analysis: ['railwai', 'accid']\n",
            "Term 'railwai': df=5297, cf=10106\n",
            "Term 'accid': df=9499, cf=22267\n",
            "Retrieved 1000 documents\n",
            "Top document: FBIS3-46280 with score -3.0510\n",
            "AP@1000 for topic 436: 0.0004 (8/180 relevant docs found)\n",
            "Processing topic 678: joint custody impact\n",
            "Found 11 relevant documents for topic 678\n",
            "Query terms after analysis: ['joint', 'custodi', 'impact']\n",
            "Term 'joint': df=32457, cf=53000\n",
            "Term 'custodi': df=3198, cf=5126\n",
            "Term 'impact': df=29034, cf=49404\n",
            "Retrieved 1000 documents\n",
            "Top document: FR941206-1-00060 with score -3.3020\n",
            "AP@1000 for topic 678: 0.0000 (0/11 relevant docs found)\n",
            "Processing topic 316: Polygamy Polyandry Polygyny\n",
            "Found 34 relevant documents for topic 316\n",
            "Query terms after analysis: ['polygami', 'polyandri', 'polygyni']\n",
            "Term 'polygami': df=27, cf=33\n",
            "Term 'polyandri': df=1, cf=1\n",
            "Term 'polygyni': df=2, cf=3\n",
            "Retrieved 30 documents\n",
            "Top document: FT942-4193 with score -5.7550\n",
            "AP@1000 for topic 316: 0.6279 (25/34 relevant docs found)\n",
            "Processing topic 437: deregulation, gas, electric\n",
            "Found 72 relevant documents for topic 437\n",
            "Query terms after analysis: ['deregul', 'ga', 'electr']\n",
            "Term 'deregul': df=3863, cf=6601\n",
            "Term 'ga': df=19319, cf=60973\n",
            "Term 'electr': df=22302, cf=49605\n",
            "Retrieved 1000 documents\n",
            "Top document: FT932-12482 with score -3.0319\n",
            "AP@1000 for topic 437: 0.0087 (18/72 relevant docs found)\n",
            "Processing topic 679: opening adoption records\n",
            "Found 6 relevant documents for topic 679\n",
            "Query terms after analysis: ['open', 'adopt', 'record']\n",
            "Term 'open': df=84471, cf=138992\n",
            "Term 'adopt': df=32237, cf=51752\n",
            "Term 'record': df=60960, cf=119391\n",
            "Retrieved 1000 documents\n",
            "Top document: FR941006-0-00062 with score -2.6589\n",
            "AP@1000 for topic 679: 0.0000 (0/6 relevant docs found)\n",
            "Processing topic 317: Unsolicited Faxes\n",
            "Found 14 relevant documents for topic 317\n",
            "Query terms after analysis: ['unsolicit', 'fax']\n",
            "Term 'unsolicit': df=393, cf=481\n",
            "Term 'fax': df=3937, cf=6842\n",
            "Retrieved 1000 documents\n",
            "Top document: LA092090-0060 with score -2.9567\n",
            "AP@1000 for topic 317: 0.0005 (2/14 relevant docs found)\n",
            "Processing topic 438: tourism, increase\n",
            "Found 173 relevant documents for topic 438\n",
            "Query terms after analysis: ['tourism', 'increas']\n",
            "Term 'tourism': df=4235, cf=7794\n",
            "Term 'increas': df=99178, cf=207642\n",
            "Retrieved 1000 documents\n",
            "Top document: FBIS4-20754 with score -3.1491\n",
            "AP@1000 for topic 438: 0.0001 (1/173 relevant docs found)\n",
            "Processing topic 318: Best Retirement Country\n",
            "Found 113 relevant documents for topic 318\n",
            "Query terms after analysis: ['best', 'retir', 'countri']\n",
            "Term 'best': df=51461, cf=73415\n",
            "Term 'retir': df=16795, cf=26027\n",
            "Term 'countri': df=115755, cf=274712\n",
            "Retrieved 1000 documents\n",
            "Top document: FBIS4-66302 with score -2.7064\n",
            "AP@1000 for topic 318: 0.0001 (3/113 relevant docs found)\n",
            "Processing topic 439: inventions, scientific discoveries\n",
            "Found 219 relevant documents for topic 439\n",
            "Query terms after analysis: ['invent', 'scientif', 'discoveri']\n",
            "Term 'invent': df=4117, cf=5506\n",
            "Term 'scientif': df=10462, cf=21197\n",
            "Term 'discoveri': df=3879, cf=5493\n",
            "Retrieved 1000 documents\n",
            "Top document: FBIS4-23037 with score -3.3335\n",
            "AP@1000 for topic 439: 0.0152 (50/219 relevant docs found)\n",
            "Processing topic 319: New Fuel Sources\n",
            "Found 170 relevant documents for topic 319\n",
            "Query terms after analysis: ['new', 'fuel', 'sourc']\n",
            "Term 'new': df=260357, cf=587139\n",
            "Term 'fuel': df=15100, cf=40825\n",
            "Term 'sourc': df=42049, cf=75718\n",
            "Retrieved 1000 documents\n",
            "Top document: FR940713-2-00004 with score -2.3704\n",
            "AP@1000 for topic 319: 0.0015 (10/170 relevant docs found)\n",
            "Processing topic 680: immigrants Spanish school\n",
            "Found 23 relevant documents for topic 680\n",
            "Query terms after analysis: ['immigr', 'spanish', 'school']\n",
            "Term 'immigr': df=5424, cf=13575\n",
            "Term 'spanish': df=13740, cf=22889\n",
            "Term 'school': df=35686, cf=110051\n",
            "Retrieved 1000 documents\n",
            "Top document: LA090690-0142 with score -2.6122\n",
            "AP@1000 for topic 680: 0.0000 (0/23 relevant docs found)\n",
            "Processing topic 681: wind power location\n",
            "Found 42 relevant documents for topic 681\n",
            "Query terms after analysis: ['wind', 'power', 'locat']\n",
            "Term 'wind': df=8316, cf=12597\n",
            "Term 'power': df=67956, cf=146927\n",
            "Term 'locat': df=26387, cf=42436\n",
            "Retrieved 1000 documents\n",
            "Top document: FBIS3-42989 with score -2.8345\n",
            "AP@1000 for topic 681: 0.0001 (2/42 relevant docs found)\n",
            "Processing topic 440: child labor\n",
            "Found 54 relevant documents for topic 440\n",
            "Query terms after analysis: ['child', 'labor']\n",
            "Term 'child': df=10085, cf=21160\n",
            "Term 'labor': df=14454, cf=33032\n",
            "Retrieved 1000 documents\n",
            "Top document: FBIS3-1836 with score -2.9301\n",
            "AP@1000 for topic 440: 0.0002 (3/54 relevant docs found)\n",
            "Processing topic 682: adult immigrants English\n",
            "Found 36 relevant documents for topic 682\n",
            "Query terms after analysis: ['adult', 'immigr', 'english']\n",
            "Term 'adult': df=6341, cf=10157\n",
            "Term 'immigr': df=5424, cf=13575\n",
            "Term 'english': df=35514, cf=45608\n",
            "Retrieved 1000 documents\n",
            "Top document: FR940831-2-00092 with score -2.9049\n",
            "AP@1000 for topic 682: 0.0007 (5/36 relevant docs found)\n",
            "Processing topic 320: Undersea Fiber Optic Cable\n",
            "Found 6 relevant documents for topic 320\n",
            "Query terms after analysis: ['undersea', 'fiber', 'optic', 'cabl']\n",
            "Term 'undersea': df=175, cf=240\n",
            "Term 'fiber': df=1774, cf=6035\n",
            "Term 'optic': df=2230, cf=5081\n",
            "Term 'cabl': df=6973, cf=18233\n",
            "Retrieved 1000 documents\n",
            "Top document: FT944-18268 with score -3.3027\n",
            "AP@1000 for topic 320: 0.0000 (0/6 relevant docs found)\n",
            "Processing topic 441: Lyme disease\n",
            "Found 17 relevant documents for topic 441\n",
            "Query terms after analysis: ['lyme', 'diseas']\n",
            "Term 'lyme': df=105, cf=198\n",
            "Term 'diseas': df=7394, cf=17413\n",
            "Retrieved 1000 documents\n",
            "Top document: FR940525-1-00082 with score -3.3760\n",
            "AP@1000 for topic 441: 0.0000 (0/17 relevant docs found)\n",
            "Processing topic 683: Czechoslovakia breakup\n",
            "Found 30 relevant documents for topic 683\n",
            "Query terms after analysis: ['czechoslovakia', 'breakup']\n",
            "Term 'czechoslovakia': df=2060, cf=3157\n",
            "Term 'breakup': df=701, cf=845\n",
            "Retrieved 1000 documents\n",
            "Top document: LA010789-0065 with score -4.3696\n",
            "AP@1000 for topic 683: 0.0031 (7/30 relevant docs found)\n",
            "Processing topic 321: Women in Parliaments\n",
            "Found 203 relevant documents for topic 321\n",
            "Query terms after analysis: ['women', 'parliament']\n",
            "Term 'women': df=20192, cf=46476\n",
            "Term 'parliament': df=25862, cf=46084\n",
            "Retrieved 1000 documents\n",
            "Top document: FBIS4-41794 with score -3.1006\n",
            "AP@1000 for topic 321: 0.0272 (35/203 relevant docs found)\n",
            "Processing topic 442: heroic acts\n",
            "Found 94 relevant documents for topic 442\n",
            "Query terms after analysis: ['heroic', 'act']\n",
            "Term 'heroic': df=1728, cf=2061\n",
            "Term 'act': df=72319, cf=154664\n",
            "Retrieved 1000 documents\n",
            "Top document: FR940207-0-00015 with score -2.5669\n",
            "AP@1000 for topic 442: 0.0000 (0/94 relevant docs found)\n",
            "Processing topic 684: part-time benefits\n",
            "Found 26 relevant documents for topic 684\n",
            "Query terms after analysis: ['part', 'time', 'benefit']\n",
            "Term 'part': df=122088, cf=225057\n",
            "Term 'time': df=189450, cf=392000\n",
            "Term 'benefit': df=40952, cf=66233\n",
            "Retrieved 1000 documents\n",
            "Top document: FR940630-1-00057 with score -2.7738\n",
            "AP@1000 for topic 684: 0.0000 (0/26 relevant docs found)\n",
            "Processing topic 322: International Art Crime\n",
            "Found 34 relevant documents for topic 322\n",
            "Query terms after analysis: ['intern', 'art', 'crime']\n",
            "Term 'intern': df=114475, cf=197933\n",
            "Term 'art': df=20587, cf=51495\n",
            "Term 'crime': df=14955, cf=30996\n",
            "Retrieved 1000 documents\n",
            "Top document: FT921-6704 with score -2.9768\n",
            "AP@1000 for topic 322: 0.0002 (2/34 relevant docs found)\n",
            "Processing topic 443: U.S., investment, Africa\n",
            "Found 102 relevant documents for topic 443\n",
            "Query terms after analysis: ['u.', 'invest', 'africa']\n",
            "Term 'u.': df=3842, cf=6583\n",
            "Term 'invest': df=64782, cf=166213\n",
            "Term 'africa': df=11308, cf=24443\n",
            "Retrieved 1000 documents\n",
            "Top document: FBIS4-22775 with score -2.5145\n",
            "AP@1000 for topic 443: 0.0001 (1/102 relevant docs found)\n",
            "Processing topic 685: Oscar winner selection\n",
            "Found 9 relevant documents for topic 685\n",
            "Query terms after analysis: ['oscar', 'winner', 'select']\n",
            "Term 'oscar': df=2308, cf=3229\n",
            "Term 'winner': df=9592, cf=13843\n",
            "Term 'select': df=24316, cf=37117\n",
            "Retrieved 1000 documents\n",
            "Top document: FT942-2695 with score -3.3390\n",
            "AP@1000 for topic 685: 0.0014 (2/9 relevant docs found)\n",
            "Processing topic 323: Literary/Journalistic Plagiarism\n",
            "Found 61 relevant documents for topic 323\n",
            "Query terms after analysis: ['literari', 'journalist', 'plagiar']\n",
            "Term 'literari': df=1632, cf=2605\n",
            "Term 'journalist': df=10339, cf=15302\n",
            "Term 'plagiar': df=73, cf=109\n",
            "Retrieved 1000 documents\n",
            "Top document: FBIS4-50963 with score -3.4887\n",
            "AP@1000 for topic 323: 0.0012 (6/61 relevant docs found)\n",
            "Processing topic 444: supercritical fluids\n",
            "Found 17 relevant documents for topic 444\n",
            "Query terms after analysis: ['supercrit', 'fluid']\n",
            "Term 'supercrit': df=24, cf=73\n",
            "Term 'fluid': df=1758, cf=3255\n",
            "Retrieved 1000 documents\n",
            "Top document: FBIS4-66416 with score -3.0942\n",
            "AP@1000 for topic 444: 0.0037 (6/17 relevant docs found)\n",
            "Processing topic 686: Argentina pegging dollar\n",
            "Found 27 relevant documents for topic 686\n",
            "Query terms after analysis: ['argentina', 'peg', 'dollar']\n",
            "Term 'argentina': df=3814, cf=8547\n",
            "Term 'peg': df=1117, cf=1268\n",
            "Term 'dollar': df=63997, cf=218714\n",
            "Retrieved 1000 documents\n",
            "Top document: FT931-12780 with score -2.6340\n",
            "AP@1000 for topic 686: 0.0000 (0/27 relevant docs found)\n",
            "Processing topic 324: Argentine/British Relations\n",
            "Found 161 relevant documents for topic 324\n",
            "Query terms after analysis: ['argentin', 'british', 'relat']\n",
            "Term 'argentin': df=1698, cf=3612\n",
            "Term 'british': df=41598, cf=81793\n",
            "Term 'relat': df=71769, cf=124065\n",
            "Retrieved 1000 documents\n",
            "Top document: FBIS3-2307 with score -3.3642\n",
            "AP@1000 for topic 324: 0.0001 (2/161 relevant docs found)\n",
            "Processing topic 445: women clergy\n",
            "Found 62 relevant documents for topic 445\n",
            "Query terms after analysis: ['women', 'clergi']\n",
            "Term 'women': df=20192, cf=46476\n",
            "Term 'clergi': df=411, cf=660\n",
            "Retrieved 1000 documents\n",
            "Top document: FBIS4-25261 with score -2.9213\n",
            "AP@1000 for topic 445: 0.0001 (1/62 relevant docs found)\n",
            "Processing topic 687: Northern Ireland industry\n",
            "Found 67 relevant documents for topic 687\n",
            "Query terms after analysis: ['northern', 'ireland', 'industri']\n",
            "Term 'northern': df=18807, cf=31560\n",
            "Term 'ireland': df=6678, cf=13993\n",
            "Term 'industri': df=93917, cf=227965\n",
            "Retrieved 1000 documents\n",
            "Top document: FBIS3-21356 with score -2.8670\n",
            "AP@1000 for topic 687: 0.0000 (0/67 relevant docs found)\n",
            "Processing topic 325: Cult Lifestyles\n",
            "Found 24 relevant documents for topic 325\n",
            "Query terms after analysis: ['cult', 'lifestyl']\n",
            "Term 'cult': df=982, cf=1388\n",
            "Term 'lifestyl': df=1328, cf=1624\n",
            "Retrieved 1000 documents\n",
            "Top document: LA052189-0196 with score -3.5896\n",
            "AP@1000 for topic 325: 0.1062 (18/24 relevant docs found)\n",
            "Processing topic 446: tourists, violence\n",
            "Found 162 relevant documents for topic 446\n",
            "Query terms after analysis: ['tourist', 'violenc']\n",
            "Term 'tourist': df=5868, cf=10503\n",
            "Term 'violenc': df=10443, cf=18229\n",
            "Retrieved 1000 documents\n",
            "Top document: LA112189-0075 with score -3.3377\n",
            "AP@1000 for topic 446: 0.0144 (38/162 relevant docs found)\n",
            "Processing topic 688: non-U.S. media bias\n",
            "Found 58 relevant documents for topic 688\n",
            "Query terms after analysis: ['non', 'u.', 'media', 'bia']\n",
            "Term 'non': df=40684, cf=62156\n",
            "Term 'u.': df=3842, cf=6583\n",
            "Term 'media': df=19656, cf=31399\n",
            "Term 'bia': df=2057, cf=3222\n",
            "Retrieved 1000 documents\n",
            "Top document: FT931-13949 with score -3.2238\n",
            "AP@1000 for topic 688: 0.0001 (2/58 relevant docs found)\n",
            "Processing topic 326: Ferry Sinkings\n",
            "Found 46 relevant documents for topic 326\n",
            "Query terms after analysis: ['ferri', 'sink']\n",
            "Term 'ferri': df=2329, cf=4335\n",
            "Term 'sink': df=2711, cf=3283\n",
            "Retrieved 1000 documents\n",
            "Top document: LA080389-0126 with score -3.7605\n",
            "AP@1000 for topic 326: 0.0070 (10/46 relevant docs found)\n",
            "Processing topic 447: Stirling engine\n",
            "Found 16 relevant documents for topic 447\n",
            "Query terms after analysis: ['stirl', 'engin']\n",
            "Term 'stirl': df=327, cf=636\n",
            "Term 'engin': df=28870, cf=64396\n",
            "Retrieved 1000 documents\n",
            "Top document: FBIS3-23537 with score -2.6177\n",
            "AP@1000 for topic 447: 0.0000 (0/16 relevant docs found)\n",
            "Processing topic 689: family-planning aid\n",
            "Found 4 relevant documents for topic 689\n",
            "Query terms after analysis: ['famili', 'plan', 'aid']\n",
            "Term 'famili': df=39810, cf=80078\n",
            "Term 'plan': df=112593, cf=240021\n",
            "Term 'aid': df=27864, cf=56274\n",
            "Retrieved 1000 documents\n",
            "Top document: FR941027-1-00009 with score -2.8481\n",
            "AP@1000 for topic 689: 0.0000 (0/4 relevant docs found)\n",
            "Processing topic 327: Modern Slavery\n",
            "Found 11 relevant documents for topic 327\n",
            "Query terms after analysis: ['modern', 'slaveri']\n",
            "Term 'modern': df=16134, cf=26037\n",
            "Term 'slaveri': df=353, cf=478\n",
            "Retrieved 1000 documents\n",
            "Top document: FR941027-1-00009 with score -3.1043\n",
            "AP@1000 for topic 327: 0.0064 (5/11 relevant docs found)\n",
            "Processing topic 448: ship losses\n",
            "Found 46 relevant documents for topic 448\n",
            "Query terms after analysis: ['ship', 'loss']\n",
            "Term 'ship': df=13383, cf=29608\n",
            "Term 'loss': df=50567, cf=97768\n",
            "Retrieved 1000 documents\n",
            "Top document: FBIS4-26334 with score -2.9061\n",
            "AP@1000 for topic 448: 0.0001 (2/46 relevant docs found)\n",
            "Processing topic 328: Pope Beatifications\n",
            "Found 8 relevant documents for topic 328\n",
            "Query terms after analysis: ['pope', 'beatif']\n",
            "Term 'pope': df=1168, cf=2446\n",
            "Term 'beatif': df=49, cf=68\n",
            "Retrieved 1000 documents\n",
            "Top document: FBIS3-13641 with score -3.7417\n",
            "AP@1000 for topic 328: 0.0002 (1/8 relevant docs found)\n",
            "Processing topic 449: antibiotics ineffectiveness\n",
            "Found 67 relevant documents for topic 449\n",
            "Query terms after analysis: ['antibiot', 'ineffect']\n",
            "Term 'antibiot': df=528, cf=934\n",
            "Term 'ineffect': df=1554, cf=1675\n",
            "Retrieved 1000 documents\n",
            "Top document: FT924-5307 with score -3.8062\n",
            "AP@1000 for topic 449: 0.1037 (28/67 relevant docs found)\n",
            "Processing topic 329: Mexican Air Pollution\n",
            "Found 35 relevant documents for topic 329\n",
            "Query terms after analysis: ['mexican', 'air', 'pollut']\n",
            "Term 'mexican': df=5485, cf=13609\n",
            "Term 'air': df=38447, cf=92829\n",
            "Term 'pollut': df=8030, cf=20313\n",
            "Retrieved 1000 documents\n",
            "Top document: FR941028-2-00192 with score -3.1136\n",
            "AP@1000 for topic 329: 0.0000 (0/35 relevant docs found)\n",
            "Processing topic 690: college education advantage\n",
            "Found 14 relevant documents for topic 690\n",
            "Query terms after analysis: ['colleg', 'educ', 'advantag']\n",
            "Term 'colleg': df=15976, cf=33923\n",
            "Term 'educ': df=27636, cf=66000\n",
            "Term 'advantag': df=20972, cf=26525\n",
            "Retrieved 1000 documents\n",
            "Top document: FBIS4-26329 with score -3.0642\n",
            "AP@1000 for topic 690: 0.0000 (0/14 relevant docs found)\n",
            "Processing topic 691: clear-cutting forests\n",
            "Found 21 relevant documents for topic 691\n",
            "Query terms after analysis: ['clear', 'cut', 'forest']\n",
            "Term 'clear': df=47962, cf=63631\n",
            "Term 'cut': df=58099, cf=106238\n",
            "Term 'forest': df=6335, cf=18116\n",
            "Retrieved 1000 documents\n",
            "Top document: FR940414-2-00094 with score -2.8190\n",
            "AP@1000 for topic 691: 0.0002 (1/21 relevant docs found)\n",
            "Processing topic 450: King Hussein, peace\n",
            "Found 293 relevant documents for topic 450\n",
            "Query terms after analysis: ['king', 'hussein', 'peac']\n",
            "Term 'king': df=11827, cf=25495\n",
            "Term 'hussein': df=1886, cf=4564\n",
            "Term 'peac': df=33481, cf=78184\n",
            "Retrieved 1000 documents\n",
            "Top document: FBIS4-58273 with score -3.0971\n",
            "AP@1000 for topic 450: 0.0000 (3/293 relevant docs found)\n",
            "Processing topic 692: prostate cancer detection treatment\n",
            "Found 19 relevant documents for topic 692\n",
            "Query terms after analysis: ['prostat', 'cancer', 'detect', 'treatment']\n",
            "Term 'prostat': df=203, cf=332\n",
            "Term 'cancer': df=4075, cf=10053\n",
            "Term 'detect': df=8170, cf=13375\n",
            "Term 'treatment': df=15501, cf=28587\n",
            "Retrieved 1000 documents\n",
            "Top document: FR941017-1-00040 with score -3.1685\n",
            "AP@1000 for topic 692: 0.0001 (1/19 relevant docs found)\n",
            "Processing topic 330: Iran-Iraq Cooperation\n",
            "Found 60 relevant documents for topic 330\n",
            "Query terms after analysis: ['iran', 'iraq', 'cooper']\n",
            "Term 'iran': df=5836, cf=17006\n",
            "Term 'iraq': df=6532, cf=23416\n",
            "Term 'cooper': df=33588, cf=70054\n",
            "Retrieved 1000 documents\n",
            "Top document: FBIS4-53488 with score -2.9428\n",
            "AP@1000 for topic 330: 0.0000 (0/60 relevant docs found)\n",
            "Processing topic 693: newspapers electronic media\n",
            "Found 23 relevant documents for topic 693\n",
            "Query terms after analysis: ['newspap', 'electron', 'media']\n",
            "Term 'newspap': df=20470, cf=33609\n",
            "Term 'electron': df=16044, cf=31433\n",
            "Term 'media': df=19656, cf=31399\n",
            "Retrieved 1000 documents\n",
            "Top document: FBIS3-45607 with score -3.2944\n",
            "AP@1000 for topic 693: 0.0000 (0/23 relevant docs found)\n",
            "Processing topic 331: World Bank Criticism\n",
            "Found 213 relevant documents for topic 331\n",
            "Query terms after analysis: ['world', 'bank', 'critic']\n",
            "Term 'world': df=98353, cf=177381\n",
            "Term 'bank': df=69753, cf=271142\n",
            "Term 'critic': df=37309, cf=56473\n",
            "Retrieved 1000 documents\n",
            "Top document: FBIS3-2951 with score -2.6590\n",
            "AP@1000 for topic 331: 0.0000 (0/213 relevant docs found)\n",
            "Processing topic 694: compost pile\n",
            "Found 87 relevant documents for topic 694\n",
            "Query terms after analysis: ['compost', 'pile']\n",
            "Term 'compost': df=251, cf=487\n",
            "Term 'pile': df=3194, cf=3822\n",
            "Retrieved 1000 documents\n",
            "Top document: FT924-12822 with score -3.8116\n",
            "AP@1000 for topic 694: 0.0606 (40/87 relevant docs found)\n",
            "Processing topic 332: Income Tax Evasion\n",
            "Found 254 relevant documents for topic 332\n",
            "Query terms after analysis: ['incom', 'tax', 'evas']\n",
            "Term 'incom': df=33567, cf=77873\n",
            "Term 'tax': df=54002, cf=155903\n",
            "Term 'evas': df=1372, cf=1763\n",
            "Retrieved 1000 documents\n",
            "Top document: FR940325-0-00017 with score -1.5703\n",
            "AP@1000 for topic 332: 0.0000 (2/254 relevant docs found)\n",
            "Processing topic 695: white collar crime sentence\n",
            "Found 85 relevant documents for topic 695\n",
            "Query terms after analysis: ['white', 'collar', 'crime', 'sentenc']\n",
            "Term 'white': df=26669, cf=51349\n",
            "Term 'collar': df=2160, cf=2995\n",
            "Term 'crime': df=14955, cf=30996\n",
            "Term 'sentenc': df=11063, cf=20978\n",
            "Retrieved 1000 documents\n",
            "Top document: LA100889-0108 with score -3.3576\n",
            "AP@1000 for topic 695: 0.0001 (2/85 relevant docs found)\n",
            "Processing topic 333: Antibiotics Bacteria Disease\n",
            "Found 65 relevant documents for topic 333\n",
            "Query terms after analysis: ['antibiot', 'bacteria', 'diseas']\n",
            "Term 'antibiot': df=528, cf=934\n",
            "Term 'bacteria': df=743, cf=1379\n",
            "Term 'diseas': df=7394, cf=17413\n",
            "Retrieved 1000 documents\n",
            "Top document: FR940525-1-00082 with score -3.3760\n",
            "AP@1000 for topic 333: 0.0044 (14/65 relevant docs found)\n",
            "Processing topic 696: safety plastic surgery\n",
            "Found 31 relevant documents for topic 696\n",
            "Query terms after analysis: ['safeti', 'plastic', 'surgeri']\n",
            "Term 'safeti': df=20221, cf=48043\n",
            "Term 'plastic': df=5651, cf=9385\n",
            "Term 'surgeri': df=3410, cf=5317\n",
            "Retrieved 1000 documents\n",
            "Top document: FR940722-1-00052 with score -3.0630\n",
            "AP@1000 for topic 696: 0.0001 (1/31 relevant docs found)\n",
            "Processing topic 334: Export Controls Cryptography\n",
            "Found 9 relevant documents for topic 334\n",
            "Query terms after analysis: ['export', 'control', 'cryptographi']\n",
            "Term 'export': df=28028, cf=78718\n",
            "Term 'control': df=74192, cf=148695\n",
            "Term 'cryptographi': df=13, cf=23\n",
            "Retrieved 1000 documents\n",
            "Top document: FR940930-2-00048 with score -3.0213\n",
            "AP@1000 for topic 334: 0.0000 (0/9 relevant docs found)\n",
            "Processing topic 697: air traffic controller\n",
            "Found 43 relevant documents for topic 697\n",
            "Query terms after analysis: ['air', 'traffic', 'control']\n",
            "Term 'air': df=38447, cf=92829\n",
            "Term 'traffic': df=12801, cf=24151\n",
            "Term 'control': df=74192, cf=148695\n",
            "Retrieved 1000 documents\n",
            "Top document: FR940930-2-00048 with score -3.0213\n",
            "AP@1000 for topic 697: 0.0000 (0/43 relevant docs found)\n",
            "Processing topic 335: Adoptive Biological Parents\n",
            "Found 66 relevant documents for topic 335\n",
            "Query terms after analysis: ['adopt', 'biolog', 'parent']\n",
            "Term 'adopt': df=32237, cf=51752\n",
            "Term 'biolog': df=2974, cf=5747\n",
            "Term 'parent': df=15909, cf=30125\n",
            "Retrieved 1000 documents\n",
            "Top document: FR940630-1-00029 with score -2.5543\n",
            "AP@1000 for topic 335: 0.0014 (7/66 relevant docs found)\n",
            "Processing topic 698: literacy rates Africa\n",
            "Found 3 relevant documents for topic 698\n",
            "Query terms after analysis: ['literaci', 'rate', 'africa']\n",
            "Term 'literaci': df=563, cf=1021\n",
            "Term 'rate': df=71801, cf=218471\n",
            "Term 'africa': df=11308, cf=24443\n",
            "Retrieved 1000 documents\n",
            "Top document: FR940202-0-00079 with score -2.5893\n",
            "AP@1000 for topic 698: 0.0000 (0/3 relevant docs found)\n",
            "Processing topic 336: Black Bear Attacks\n",
            "Found 12 relevant documents for topic 336\n",
            "Query terms after analysis: ['black', 'bear', 'attack']\n",
            "Term 'black': df=22737, cf=47522\n",
            "Term 'bear': df=16429, cf=23545\n",
            "Term 'attack': df=29415, cf=49330\n",
            "Retrieved 1000 documents\n",
            "Top document: LA021790-0061 with score -2.7604\n",
            "AP@1000 for topic 336: 0.0398 (6/12 relevant docs found)\n",
            "Processing topic 699: term limits\n",
            "Found 71 relevant documents for topic 699\n",
            "Query terms after analysis: ['term', 'limit']\n",
            "Term 'term': df=78378, cf=132085\n",
            "Term 'limit': df=52583, cf=94047\n",
            "Retrieved 1000 documents\n",
            "Top document: FR941206-2-00106 with score -3.0640\n",
            "AP@1000 for topic 699: 0.0000 (0/71 relevant docs found)\n",
            "Processing topic 337: Viral Hepatitis\n",
            "Found 93 relevant documents for topic 337\n",
            "Query terms after analysis: ['viral', 'hepat']\n",
            "Term 'viral': df=430, cf=634\n",
            "Term 'hepat': df=415, cf=933\n",
            "Retrieved 786 documents\n",
            "Top document: FBIS3-41744 with score -3.8654\n",
            "AP@1000 for topic 337: 0.2349 (93/93 relevant docs found)\n",
            "Processing topic 338: Risk of Aspirin\n",
            "Found 4 relevant documents for topic 338\n",
            "Query terms after analysis: ['risk', 'aspirin']\n",
            "Term 'risk': df=29230, cf=53151\n",
            "Term 'aspirin': df=207, cf=377\n",
            "Retrieved 1000 documents\n",
            "Top document: FR941222-1-00041 with score -2.9425\n",
            "AP@1000 for topic 338: 0.0000 (0/4 relevant docs found)\n",
            "Processing topic 339: Alzheimer's Drug Treatment\n",
            "Found 10 relevant documents for topic 339\n",
            "Query terms after analysis: ['alzheim', 'drug', 'treatment']\n",
            "Term 'alzheim': df=314, cf=851\n",
            "Term 'drug': df=20376, cf=76467\n",
            "Term 'treatment': df=15501, cf=28587\n",
            "Retrieved 1000 documents\n",
            "Top document: FBIS4-67341 with score -3.1559\n",
            "AP@1000 for topic 339: 0.0000 (0/10 relevant docs found)\n",
            "Processing topic 340: Land Mine Ban\n",
            "Found 69 relevant documents for topic 340\n",
            "Query terms after analysis: ['land', 'mine', 'ban']\n",
            "Term 'land': df=33665, cf=76768\n",
            "Term 'mine': df=13495, cf=33346\n",
            "Term 'ban': df=12737, cf=22143\n",
            "Retrieved 1000 documents\n",
            "Top document: FBIS4-21383 with score -2.6335\n",
            "AP@1000 for topic 340: 0.0003 (3/69 relevant docs found)\n",
            "Processing topic 341: Airport Security\n",
            "Found 78 relevant documents for topic 341\n",
            "Query terms after analysis: ['airport', 'secur']\n",
            "Term 'airport': df=13535, cf=34831\n",
            "Term 'secur': df=76473, cf=169507\n",
            "Retrieved 1000 documents\n",
            "Top document: FR940825-1-00149 with score -2.3460\n",
            "AP@1000 for topic 341: 0.0000 (0/78 relevant docs found)\n",
            "Processing topic 342: Diplomatic Expulsion\n",
            "Found 20 relevant documents for topic 342\n",
            "Query terms after analysis: ['diplomat', 'expuls']\n",
            "Term 'diplomat': df=15249, cf=24705\n",
            "Term 'expuls': df=979, cf=1378\n",
            "Retrieved 1000 documents\n",
            "Top document: FBIS4-13879 with score -3.8704\n",
            "AP@1000 for topic 342: 0.0081 (3/20 relevant docs found)\n",
            "Processing topic 343: Police Deaths\n",
            "Found 258 relevant documents for topic 343\n",
            "Query terms after analysis: ['polic', 'death']\n",
            "Term 'polic': df=30621, cf=82888\n",
            "Term 'death': df=21200, cf=35171\n",
            "Retrieved 1000 documents\n",
            "Top document: FR940722-2-00131 with score -3.1197\n",
            "AP@1000 for topic 343: 0.0003 (8/258 relevant docs found)\n",
            "Processing topic 344: Abuses of E-Mail\n",
            "Found 5 relevant documents for topic 344\n",
            "Query terms after analysis: ['abus', 'e', 'mail']\n",
            "Term 'abus': df=9170, cf=14583\n",
            "Term 'e': df=25057, cf=53042\n",
            "Term 'mail': df=10332, cf=18767\n",
            "Retrieved 1000 documents\n",
            "Top document: FR941207-1-00028 with score -1.9907\n",
            "AP@1000 for topic 344: 0.0000 (0/5 relevant docs found)\n",
            "Processing topic 345: Overseas Tobacco Sales\n",
            "Found 38 relevant documents for topic 345\n",
            "Query terms after analysis: ['oversea', 'tobacco', 'sale']\n",
            "Term 'oversea': df=13530, cf=20369\n",
            "Term 'tobacco': df=3595, cf=7791\n",
            "Term 'sale': df=63324, cf=146822\n",
            "Retrieved 1000 documents\n",
            "Top document: FBIS4-26400 with score -2.9530\n",
            "AP@1000 for topic 345: 0.0000 (0/38 relevant docs found)\n",
            "Processing topic 346: Educational Standards\n",
            "Found 105 relevant documents for topic 346\n",
            "Query terms after analysis: ['educ', 'standard']\n",
            "Term 'educ': df=27636, cf=66000\n",
            "Term 'standard': df=43944, cf=99790\n",
            "Retrieved 1000 documents\n",
            "Top document: FR940930-0-00155 with score -2.8486\n",
            "AP@1000 for topic 346: 0.0006 (5/105 relevant docs found)\n",
            "Processing topic 347: Wildlife Extinction\n",
            "Found 152 relevant documents for topic 347\n",
            "Query terms after analysis: ['wildlif', 'extinct']\n",
            "Term 'wildlif': df=3412, cf=8759\n",
            "Term 'extinct': df=1152, cf=1539\n",
            "Retrieved 1000 documents\n",
            "Top document: FR941212-2-00065 with score -3.3635\n",
            "AP@1000 for topic 347: 0.0369 (61/152 relevant docs found)\n",
            "Processing topic 348: Agoraphobia\n",
            "Found 5 relevant documents for topic 348\n",
            "Query terms after analysis: ['agoraphobia']\n",
            "Term 'agoraphobia': df=6, cf=7\n",
            "Retrieved 6 documents\n",
            "Top document: LA100689-0117 with score -5.9290\n",
            "AP@1000 for topic 348: 0.8100 (5/5 relevant docs found)\n",
            "Processing topic 349: Metabolism\n",
            "Found 73 relevant documents for topic 349\n",
            "Query terms after analysis: ['metabol']\n",
            "Term 'metabol': df=362, cf=798\n",
            "Retrieved 362 documents\n",
            "Top document: FBIS3-42994 with score -3.3124\n",
            "AP@1000 for topic 349: 0.2215 (35/73 relevant docs found)\n",
            "\n",
            "Processed 125 topics, calculated AP for 124 topics\n",
            "MAP@1000 for Query Likelihood model: 0.0306\n"
          ]
        }
      ]
    },
    {
      "cell_type": "code",
      "source": [
        "print(f\"Map@1000 {map_score}\")"
      ],
      "metadata": {
        "colab": {
          "base_uri": "https://localhost:8080/"
        },
        "id": "SExt5RN2ACKN",
        "outputId": "845e5fb9-4486-443e-ac51-02300b4a46a0"
      },
      "execution_count": 39,
      "outputs": [
        {
          "output_type": "stream",
          "name": "stdout",
          "text": [
            "Map@1000 0.03061478033718738\n"
          ]
        }
      ]
    }
  ]
}